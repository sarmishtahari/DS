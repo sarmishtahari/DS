{
  "nbformat": 4,
  "nbformat_minor": 0,
  "metadata": {
    "colab": {
      "name": "09-07-2020.ipynb",
      "provenance": [],
      "collapsed_sections": [],
      "toc_visible": true,
      "authorship_tag": "ABX9TyOZibjOZPxdGHkd/WK7JuIP",
      "include_colab_link": true
    },
    "kernelspec": {
      "name": "python3",
      "display_name": "Python 3"
    }
  },
  "cells": [
    {
      "cell_type": "markdown",
      "metadata": {
        "id": "view-in-github",
        "colab_type": "text"
      },
      "source": [
        "<a href=\"https://colab.research.google.com/github/sarmishtahari/DS/blob/master/09_07_2020.ipynb\" target=\"_parent\"><img src=\"https://colab.research.google.com/assets/colab-badge.svg\" alt=\"Open In Colab\"/></a>"
      ]
    },
    {
      "cell_type": "markdown",
      "metadata": {
        "id": "iZ2NtP9Y1DlQ",
        "colab_type": "text"
      },
      "source": [
        "## Handwritten digit recognition\n"
      ]
    },
    {
      "cell_type": "markdown",
      "metadata": {
        "id": "IqmR6T4i1I8Y",
        "colab_type": "text"
      },
      "source": [
        "## Data Collection\n"
      ]
    },
    {
      "cell_type": "markdown",
      "metadata": {
        "id": "dzdLc1itZNXR",
        "colab_type": "text"
      },
      "source": [
        "### Importing the required packages"
      ]
    },
    {
      "cell_type": "code",
      "metadata": {
        "id": "imeR_wWrZIvw",
        "colab_type": "code",
        "colab": {}
      },
      "source": [
        "import tensorflow as tf\n",
        "import tensorflow.keras as keras\n",
        "import numpy as np\n",
        "import matplotlib.pyplot as plt\n",
        "%matplotlib inline"
      ],
      "execution_count": 1,
      "outputs": []
    },
    {
      "cell_type": "markdown",
      "metadata": {
        "id": "jl2hypLfZZdH",
        "colab_type": "text"
      },
      "source": [
        "### Load the MNIST dataset"
      ]
    },
    {
      "cell_type": "code",
      "metadata": {
        "id": "uF_repWZZdV9",
        "colab_type": "code",
        "colab": {
          "base_uri": "https://localhost:8080/",
          "height": 34
        },
        "outputId": "1db75821-8127-4af2-c20d-5ce8810fee3d"
      },
      "source": [
        "from keras.datasets.mnist import load_data"
      ],
      "execution_count": 2,
      "outputs": [
        {
          "output_type": "stream",
          "text": [
            "Using TensorFlow backend.\n"
          ],
          "name": "stderr"
        }
      ]
    },
    {
      "cell_type": "markdown",
      "metadata": {
        "id": "kDKA8px61Iok",
        "colab_type": "text"
      },
      "source": [
        ""
      ]
    },
    {
      "cell_type": "code",
      "metadata": {
        "id": "VfdtrEqUZnvK",
        "colab_type": "code",
        "colab": {
          "base_uri": "https://localhost:8080/",
          "height": 68
        },
        "outputId": "c1965f26-179d-4913-ecaf-1211442cb56b"
      },
      "source": [
        "## load_data -- return value is two tuples train,test\n",
        "(train_digits,train_labels),(test_digits,test_labels) = load_data()\n",
        "print(train_digits.shape)"
      ],
      "execution_count": 3,
      "outputs": [
        {
          "output_type": "stream",
          "text": [
            "Downloading data from https://s3.amazonaws.com/img-datasets/mnist.npz\n",
            "11493376/11490434 [==============================] - 1s 0us/step\n",
            "(60000, 28, 28)\n"
          ],
          "name": "stdout"
        }
      ]
    },
    {
      "cell_type": "markdown",
      "metadata": {
        "id": "0ofSMV0XZsjK",
        "colab_type": "text"
      },
      "source": [
        "There are 60000 images in the training data. Each image size is 28*28\n",
        "\n"
      ]
    },
    {
      "cell_type": "code",
      "metadata": {
        "id": "l7_i7iKuZueD",
        "colab_type": "code",
        "colab": {
          "base_uri": "https://localhost:8080/",
          "height": 34
        },
        "outputId": "729d2ad4-a146-4cd0-d1e3-86453d44e32a"
      },
      "source": [
        "print(test_digits.shape)"
      ],
      "execution_count": 4,
      "outputs": [
        {
          "output_type": "stream",
          "text": [
            "(10000, 28, 28)\n"
          ],
          "name": "stdout"
        }
      ]
    },
    {
      "cell_type": "markdown",
      "metadata": {
        "id": "rhyLTi2rZz6W",
        "colab_type": "text"
      },
      "source": [
        "There are 10 classes. from class 0 to class 9"
      ]
    },
    {
      "cell_type": "code",
      "metadata": {
        "id": "P9qagVmvZ1Yf",
        "colab_type": "code",
        "colab": {
          "base_uri": "https://localhost:8080/",
          "height": 34
        },
        "outputId": "b8789dea-0c7e-4fd5-99f7-7d873a4fa782"
      },
      "source": [
        "print(train_labels.shape)"
      ],
      "execution_count": 5,
      "outputs": [
        {
          "output_type": "stream",
          "text": [
            "(60000,)\n"
          ],
          "name": "stdout"
        }
      ]
    },
    {
      "cell_type": "markdown",
      "metadata": {
        "id": "vGL5kEjSZ76K",
        "colab_type": "text"
      },
      "source": [
        "Class wise images count"
      ]
    },
    {
      "cell_type": "code",
      "metadata": {
        "id": "qc6cLaFgZ9Zf",
        "colab_type": "code",
        "colab": {
          "base_uri": "https://localhost:8080/",
          "height": 34
        },
        "outputId": "8326cce5-f596-42d7-e081-ab54626f3478"
      },
      "source": [
        "type(train_labels)"
      ],
      "execution_count": 6,
      "outputs": [
        {
          "output_type": "execute_result",
          "data": {
            "text/plain": [
              "numpy.ndarray"
            ]
          },
          "metadata": {
            "tags": []
          },
          "execution_count": 6
        }
      ]
    },
    {
      "cell_type": "code",
      "metadata": {
        "id": "4R3nw_8OaC85",
        "colab_type": "code",
        "colab": {
          "base_uri": "https://localhost:8080/",
          "height": 204
        },
        "outputId": "a9aa4697-a656-4df0-86c0-ecd9b8cc6e6c"
      },
      "source": [
        "import pandas as pd\n",
        "pd.Series(train_labels).value_counts()"
      ],
      "execution_count": 7,
      "outputs": [
        {
          "output_type": "execute_result",
          "data": {
            "text/plain": [
              "1    6742\n",
              "7    6265\n",
              "3    6131\n",
              "2    5958\n",
              "9    5949\n",
              "0    5923\n",
              "6    5918\n",
              "8    5851\n",
              "4    5842\n",
              "5    5421\n",
              "dtype: int64"
            ]
          },
          "metadata": {
            "tags": []
          },
          "execution_count": 7
        }
      ]
    },
    {
      "cell_type": "markdown",
      "metadata": {
        "id": "bqVRAkTJaKwZ",
        "colab_type": "text"
      },
      "source": [
        "Image count for each label in test data"
      ]
    },
    {
      "cell_type": "code",
      "metadata": {
        "id": "icZEhwcraJau",
        "colab_type": "code",
        "colab": {
          "base_uri": "https://localhost:8080/",
          "height": 204
        },
        "outputId": "9ab965d1-c90f-4b43-8724-b4a8fb9ab498"
      },
      "source": [
        "pd.Series(test_labels).value_counts()"
      ],
      "execution_count": 8,
      "outputs": [
        {
          "output_type": "execute_result",
          "data": {
            "text/plain": [
              "1    1135\n",
              "2    1032\n",
              "7    1028\n",
              "3    1010\n",
              "9    1009\n",
              "4     982\n",
              "0     980\n",
              "8     974\n",
              "6     958\n",
              "5     892\n",
              "dtype: int64"
            ]
          },
          "metadata": {
            "tags": []
          },
          "execution_count": 8
        }
      ]
    },
    {
      "cell_type": "markdown",
      "metadata": {
        "id": "aDe1ANLvaUXq",
        "colab_type": "text"
      },
      "source": [
        "## EDA"
      ]
    },
    {
      "cell_type": "markdown",
      "metadata": {
        "id": "SrI5dUo0aWQl",
        "colab_type": "text"
      },
      "source": [
        "### Display a few images with labels."
      ]
    },
    {
      "cell_type": "code",
      "metadata": {
        "id": "mtOglZ-iaeu7",
        "colab_type": "code",
        "colab": {
          "base_uri": "https://localhost:8080/",
          "height": 282
        },
        "outputId": "59770b76-e20f-4a42-a6f0-3b773d15c420"
      },
      "source": [
        "plt.imshow(train_digits[0])"
      ],
      "execution_count": 9,
      "outputs": [
        {
          "output_type": "execute_result",
          "data": {
            "text/plain": [
              "<matplotlib.image.AxesImage at 0x7fc0f7cf1240>"
            ]
          },
          "metadata": {
            "tags": []
          },
          "execution_count": 9
        },
        {
          "output_type": "display_data",
          "data": {
            "image/png": "[encoded data removed]",
            "text/plain": [
              "<Figure size 432x288 with 1 Axes>"
            ]
          },
          "metadata": {
            "tags": [],
            "needs_background": "light"
          }
        }
      ]
    },
    {
      "cell_type": "code",
      "metadata": {
        "id": "L4ocZWzQahzb",
        "colab_type": "code",
        "colab": {
          "base_uri": "https://localhost:8080/",
          "height": 298
        },
        "outputId": "cc09a7e8-a3f5-4b51-a427-2a3438d36724"
      },
      "source": [
        "plt.imshow(train_digits[0],cmap='gray')\n",
        "plt.title(\"Digit \"+ str(train_labels[0]))"
      ],
      "execution_count": 10,
      "outputs": [
        {
          "output_type": "execute_result",
          "data": {
            "text/plain": [
              "Text(0.5, 1.0, 'Digit 5')"
            ]
          },
          "metadata": {
            "tags": []
          },
          "execution_count": 10
        },
        {
          "output_type": "display_data",
          "data": {
            "image/png": "[encoded data removed]",
            "text/plain": [
              "<Figure size 432x288 with 1 Axes>"
            ]
          },
          "metadata": {
            "tags": [],
            "needs_background": "light"
          }
        }
      ]
    },
    {
      "cell_type": "code",
      "metadata": {
        "id": "vvGroyCjamdy",
        "colab_type": "code",
        "colab": {
          "base_uri": "https://localhost:8080/",
          "height": 102
        },
        "outputId": "ab53387d-f97a-4804-800c-8b6af62b5f54"
      },
      "source": [
        "train_digits[0][5:10,22:25]"
      ],
      "execution_count": 11,
      "outputs": [
        {
          "output_type": "execute_result",
          "data": {
            "text/plain": [
              "array([[247, 127,   0],\n",
              "       [195,  64,   0],\n",
              "       [ 39,   0,   0],\n",
              "       [  0,   0,   0],\n",
              "       [  0,   0,   0]], dtype=uint8)"
            ]
          },
          "metadata": {
            "tags": []
          },
          "execution_count": 11
        }
      ]
    },
    {
      "cell_type": "code",
      "metadata": {
        "id": "2b2h2Xy1arM7",
        "colab_type": "code",
        "colab": {
          "base_uri": "https://localhost:8080/",
          "height": 34
        },
        "outputId": "8ae2444b-168d-4990-f3ac-bb0b9dce59e4"
      },
      "source": [
        "28*28"
      ],
      "execution_count": 12,
      "outputs": [
        {
          "output_type": "execute_result",
          "data": {
            "text/plain": [
              "784"
            ]
          },
          "metadata": {
            "tags": []
          },
          "execution_count": 12
        }
      ]
    },
    {
      "cell_type": "code",
      "metadata": {
        "id": "wedEYVGjaqx_",
        "colab_type": "code",
        "colab": {
          "base_uri": "https://localhost:8080/",
          "height": 792
        },
        "outputId": "7fd4e4e7-8819-4d90-a260-6ae9c82d5134"
      },
      "source": [
        "plt.hist(train_digits[0])\n"
      ],
      "execution_count": 14,
      "outputs": [
        {
          "output_type": "execute_result",
          "data": {
            "text/plain": [
              "(array([[28.,  0.,  0.,  0.,  0.,  0.,  0.,  0.,  0.,  0.],\n",
              "        [28.,  0.,  0.,  0.,  0.,  0.,  0.,  0.,  0.,  0.],\n",
              "        [28.,  0.,  0.,  0.,  0.,  0.,  0.,  0.,  0.,  0.],\n",
              "        [28.,  0.,  0.,  0.,  0.,  0.,  0.,  0.,  0.,  0.],\n",
              "        [26.,  0.,  1.,  0.,  0.,  1.,  0.,  0.,  0.,  0.],\n",
              "        [26.,  0.,  0.,  0.,  0.,  0.,  1.,  0.,  0.,  1.],\n",
              "        [26.,  0.,  0.,  0.,  0.,  0.,  0.,  0.,  1.,  1.],\n",
              "        [24.,  1.,  0.,  0.,  0.,  0.,  1.,  0.,  0.,  2.],\n",
              "        [21.,  1.,  0.,  1.,  0.,  0.,  0.,  0.,  3.,  2.],\n",
              "        [20.,  1.,  1.,  0.,  0.,  1.,  1.,  0.,  0.,  4.],\n",
              "        [20.,  0.,  0.,  1.,  1.,  1.,  0.,  0.,  1.,  4.],\n",
              "        [18.,  0.,  0.,  0.,  1.,  1.,  2.,  0.,  0.,  6.],\n",
              "        [15.,  2.,  0.,  0.,  0.,  1.,  1.,  1.,  1.,  7.],\n",
              "        [15.,  0.,  0.,  2.,  0.,  1.,  0.,  2.,  1.,  7.],\n",
              "        [16.,  2.,  1.,  1.,  0.,  0.,  0.,  1.,  2.,  5.],\n",
              "        [18.,  0.,  0.,  0.,  0.,  1.,  1.,  3.,  0.,  5.],\n",
              "        [15.,  1.,  0.,  2.,  2.,  0.,  0.,  1.,  0.,  7.],\n",
              "        [16.,  0.,  0.,  0.,  1.,  1.,  1.,  1.,  0.,  8.],\n",
              "        [19.,  0.,  0.,  2.,  0.,  1.,  1.,  0.,  1.,  4.],\n",
              "        [20.,  2.,  0.,  1.,  0.,  0.,  1.,  2.,  1.,  1.],\n",
              "        [24.,  0.,  1.,  1.,  0.,  0.,  1.,  0.,  0.,  1.],\n",
              "        [25.,  0.,  1.,  0.,  0.,  0.,  0.,  0.,  0.,  2.],\n",
              "        [25.,  1.,  0.,  0.,  0.,  0.,  0.,  1.,  0.,  1.],\n",
              "        [26.,  0.,  1.,  0.,  1.,  0.,  0.,  0.,  0.,  0.],\n",
              "        [28.,  0.,  0.,  0.,  0.,  0.,  0.,  0.,  0.,  0.],\n",
              "        [28.,  0.,  0.,  0.,  0.,  0.,  0.,  0.,  0.,  0.],\n",
              "        [28.,  0.,  0.,  0.,  0.,  0.,  0.,  0.,  0.,  0.],\n",
              "        [28.,  0.,  0.,  0.,  0.,  0.,  0.,  0.,  0.,  0.]]),\n",
              " array([  0. ,  25.5,  51. ,  76.5, 102. , 127.5, 153. , 178.5, 204. ,\n",
              "        229.5, 255. ]),\n",
              " <a list of 28 Lists of Patches objects>)"
            ]
          },
          "metadata": {
            "tags": []
          },
          "execution_count": 14
        },
        {
          "output_type": "display_data",
          "data": {
            "image/png": "[encoded data removed]",
            "text/plain": [
              "<Figure size 432x288 with 1 Axes>"
            ]
          },
          "metadata": {
            "tags": [],
            "needs_background": "light"
          }
        }
      ]
    },
    {
      "cell_type": "code",
      "metadata": {
        "id": "e9MMw5EvaqIu",
        "colab_type": "code",
        "colab": {
          "base_uri": "https://localhost:8080/",
          "height": 333
        },
        "outputId": "7f38e3e2-dd62-473e-f390-959a67d98cf8"
      },
      "source": [
        "plt.hist(train_digits[0].flat)"
      ],
      "execution_count": 15,
      "outputs": [
        {
          "output_type": "execute_result",
          "data": {
            "text/plain": [
              "(array([639.,  11.,   6.,  11.,   6.,   9.,  11.,  12.,  11.,  68.]),\n",
              " array([  0. ,  25.5,  51. ,  76.5, 102. , 127.5, 153. , 178.5, 204. ,\n",
              "        229.5, 255. ]),\n",
              " <a list of 10 Patch objects>)"
            ]
          },
          "metadata": {
            "tags": []
          },
          "execution_count": 15
        },
        {
          "output_type": "display_data",
          "data": {
            "image/png": "[encoded data removed]",
            "text/plain": [
              "<Figure size 432x288 with 1 Axes>"
            ]
          },
          "metadata": {
            "tags": [],
            "needs_background": "light"
          }
        }
      ]
    },
    {
      "cell_type": "code",
      "metadata": {
        "id": "IQDfqGH1bBY3",
        "colab_type": "code",
        "colab": {
          "base_uri": "https://localhost:8080/",
          "height": 265
        },
        "outputId": "670155a8-580c-4520-e1b1-612342c835ca"
      },
      "source": [
        "plt.hist(train_digits[0].flat,bins=255)\n",
        "plt.show()"
      ],
      "execution_count": 16,
      "outputs": [
        {
          "output_type": "display_data",
          "data": {
            "image/png": "[encoded data removed]",
            "text/plain": [
              "<Figure size 432x288 with 1 Axes>"
            ]
          },
          "metadata": {
            "tags": [],
            "needs_background": "light"
          }
        }
      ]
    },
    {
      "cell_type": "code",
      "metadata": {
        "id": "pcMvD_PGbBHZ",
        "colab_type": "code",
        "colab": {
          "base_uri": "https://localhost:8080/",
          "height": 282
        },
        "outputId": "8161c7d5-0881-486b-ec32-9605f5084906"
      },
      "source": [
        "plt.imshow(train_digits[14],cmap='gray')"
      ],
      "execution_count": 17,
      "outputs": [
        {
          "output_type": "execute_result",
          "data": {
            "text/plain": [
              "<matplotlib.image.AxesImage at 0x7fc0f6c7b320>"
            ]
          },
          "metadata": {
            "tags": []
          },
          "execution_count": 17
        },
        {
          "output_type": "display_data",
          "data": {
            "image/png": "[encoded data removed]",
            "text/plain": [
              "<Figure size 432x288 with 1 Axes>"
            ]
          },
          "metadata": {
            "tags": [],
            "needs_background": "light"
          }
        }
      ]
    },
    {
      "cell_type": "code",
      "metadata": {
        "id": "-BDx-thQbIfh",
        "colab_type": "code",
        "colab": {
          "base_uri": "https://localhost:8080/",
          "height": 333
        },
        "outputId": "3df44250-039c-4561-e44c-fe9c0b76fcce"
      },
      "source": [
        "## Pixel distribution for digit 1\n",
        "plt.hist(train_digits[14].flat)"
      ],
      "execution_count": 18,
      "outputs": [
        {
          "output_type": "execute_result",
          "data": {
            "text/plain": [
              "(array([713.,  17.,   1.,   2.,  10.,   0.,   4.,   4.,   2.,  31.]),\n",
              " array([  0. ,  25.5,  51. ,  76.5, 102. , 127.5, 153. , 178.5, 204. ,\n",
              "        229.5, 255. ]),\n",
              " <a list of 10 Patch objects>)"
            ]
          },
          "metadata": {
            "tags": []
          },
          "execution_count": 18
        },
        {
          "output_type": "display_data",
          "data": {
            "image/png": "[encoded data removed]",
            "text/plain": [
              "<Figure size 432x288 with 1 Axes>"
            ]
          },
          "metadata": {
            "tags": [],
            "needs_background": "light"
          }
        }
      ]
    },
    {
      "cell_type": "code",
      "metadata": {
        "id": "UWcDSodubRSw",
        "colab_type": "code",
        "colab": {
          "base_uri": "https://localhost:8080/",
          "height": 34
        },
        "outputId": "0e328b96-dfae-4cd9-ca1b-8151d7ad0d55"
      },
      "source": [
        "train_labels[10:20]"
      ],
      "execution_count": 19,
      "outputs": [
        {
          "output_type": "execute_result",
          "data": {
            "text/plain": [
              "array([3, 5, 3, 6, 1, 7, 2, 8, 6, 9], dtype=uint8)"
            ]
          },
          "metadata": {
            "tags": []
          },
          "execution_count": 19
        }
      ]
    },
    {
      "cell_type": "code",
      "metadata": {
        "id": "RevzdoqIbRCN",
        "colab_type": "code",
        "colab": {
          "base_uri": "https://localhost:8080/",
          "height": 51
        },
        "outputId": "923ecf6e-a131-473b-a3eb-80cd1e9390e9"
      },
      "source": [
        "samples = np.random.randint(train_digits.shape[0],size=16)\n",
        "samples"
      ],
      "execution_count": 20,
      "outputs": [
        {
          "output_type": "execute_result",
          "data": {
            "text/plain": [
              "array([46602, 20079, 27815, 51373, 52978,  1140,  8196, 14862,  7272,\n",
              "        3528, 51246,  9246,  3859, 25919,  8146, 38575])"
            ]
          },
          "metadata": {
            "tags": []
          },
          "execution_count": 20
        }
      ]
    },
    {
      "cell_type": "code",
      "metadata": {
        "id": "FaNcRAndbQ2q",
        "colab_type": "code",
        "colab": {
          "base_uri": "https://localhost:8080/",
          "height": 917
        },
        "outputId": "921684f3-a6dd-4b5c-d11a-0c2952537a24"
      },
      "source": [
        "plt.figure(figsize=(16,16))\n",
        "j = 1\n",
        "for i in samples:\n",
        "  plt.subplot(4,4,j)\n",
        "  plt.imshow(train_digits[i],cmap='gray')\n",
        "  plt.title(\"Digit: \"+str(train_labels[i]))\n",
        "  plt.axis('off')\n",
        "  j += 1"
      ],
      "execution_count": 21,
      "outputs": [
        {
          "output_type": "display_data",
          "data": {
            "image/png": "[encoded data removed]",
            "text/plain": [
              "<Figure size 1152x1152 with 16 Axes>"
            ]
          },
          "metadata": {
            "tags": [],
            "needs_background": "light"
          }
        }
      ]
    },
    {
      "cell_type": "code",
      "metadata": {
        "id": "iKVD3sWAbcpB",
        "colab_type": "code",
        "colab": {
          "base_uri": "https://localhost:8080/",
          "height": 934
        },
        "outputId": "9002ecd0-107f-451b-e1f4-2189c4c2a2b7"
      },
      "source": [
        "plt.figure(figsize=(16,16))\n",
        "j = 1\n",
        "for i in samples:\n",
        "  plt.subplot(4,4,j)\n",
        "  plt.hist(train_digits[i].flat)\n",
        "  plt.title(\"Digit: \"+str(train_labels[i]))\n",
        "  #plt.axis('off')\n",
        "  j += 1"
      ],
      "execution_count": 22,
      "outputs": [
        {
          "output_type": "display_data",
          "data": {
            "image/png": "[encoded data removed]",
            "text/plain": [
              "<Figure size 1152x1152 with 16 Axes>"
            ]
          },
          "metadata": {
            "tags": [],
            "needs_background": "light"
          }
        }
      ]
    },
    {
      "cell_type": "markdown",
      "metadata": {
        "id": "TBd4riBWbhS4",
        "colab_type": "text"
      },
      "source": [
        "## Preprocessing"
      ]
    },
    {
      "cell_type": "markdown",
      "metadata": {
        "id": "QIZ0H-r9blM8",
        "colab_type": "text"
      },
      "source": [
        "### Scaling"
      ]
    },
    {
      "cell_type": "code",
      "metadata": {
        "id": "3pVRZP5Cbnr2",
        "colab_type": "code",
        "colab": {}
      },
      "source": [
        "## pixel values are from 0 to 255\n",
        "train_digits_sc =  train_digits/255.0\n",
        "test_digits_sc = test_digits/255.0"
      ],
      "execution_count": 23,
      "outputs": []
    },
    {
      "cell_type": "markdown",
      "metadata": {
        "id": "b-BxnEt9bvH0",
        "colab_type": "text"
      },
      "source": [
        "### Convert labels into categorical values"
      ]
    },
    {
      "cell_type": "code",
      "metadata": {
        "id": "GfATk3DobtNq",
        "colab_type": "code",
        "colab": {
          "base_uri": "https://localhost:8080/",
          "height": 34
        },
        "outputId": "746e8dd4-f5a6-45c0-e7c0-e0bf4f004f3c"
      },
      "source": [
        "train_labels"
      ],
      "execution_count": 24,
      "outputs": [
        {
          "output_type": "execute_result",
          "data": {
            "text/plain": [
              "array([5, 0, 4, ..., 5, 6, 8], dtype=uint8)"
            ]
          },
          "metadata": {
            "tags": []
          },
          "execution_count": 24
        }
      ]
    },
    {
      "cell_type": "code",
      "metadata": {
        "id": "eeBo1eSfb6rx",
        "colab_type": "code",
        "colab": {}
      },
      "source": [
        "from keras.utils import to_categorical"
      ],
      "execution_count": 25,
      "outputs": []
    },
    {
      "cell_type": "code",
      "metadata": {
        "id": "NC8SMWU7b6kZ",
        "colab_type": "code",
        "colab": {}
      },
      "source": [
        "train_labels_cat = to_categorical(train_labels)"
      ],
      "execution_count": 26,
      "outputs": []
    },
    {
      "cell_type": "code",
      "metadata": {
        "id": "GVEIUJZHb6dK",
        "colab_type": "code",
        "colab": {
          "base_uri": "https://localhost:8080/",
          "height": 34
        },
        "outputId": "e2b2909c-9504-467d-9d14-dff014f99311"
      },
      "source": [
        "train_labels_cat[0]"
      ],
      "execution_count": 27,
      "outputs": [
        {
          "output_type": "execute_result",
          "data": {
            "text/plain": [
              "array([0., 0., 0., 0., 0., 1., 0., 0., 0., 0.], dtype=float32)"
            ]
          },
          "metadata": {
            "tags": []
          },
          "execution_count": 27
        }
      ]
    },
    {
      "cell_type": "code",
      "metadata": {
        "id": "p2Bd_Kjub6P5",
        "colab_type": "code",
        "colab": {
          "base_uri": "https://localhost:8080/",
          "height": 34
        },
        "outputId": "892a2c2a-166b-45c7-f9b9-6a38d39337ea"
      },
      "source": [
        "test_labels_cat = to_categorical(test_labels)\n",
        "test_labels_cat[9]"
      ],
      "execution_count": 28,
      "outputs": [
        {
          "output_type": "execute_result",
          "data": {
            "text/plain": [
              "array([0., 0., 0., 0., 0., 0., 0., 0., 0., 1.], dtype=float32)"
            ]
          },
          "metadata": {
            "tags": []
          },
          "execution_count": 28
        }
      ]
    },
    {
      "cell_type": "markdown",
      "metadata": {
        "id": "iH4jmdDOcLN8",
        "colab_type": "text"
      },
      "source": [
        "### Split the train data to train and validation"
      ]
    },
    {
      "cell_type": "code",
      "metadata": {
        "id": "MXyYLBi_b5_a",
        "colab_type": "code",
        "colab": {
          "base_uri": "https://localhost:8080/",
          "height": 68
        },
        "outputId": "0669122a-15b2-41f7-c908-52ade45d71cb"
      },
      "source": [
        "from sklearn.model_selection import train_test_split\n",
        "X_train,X_val,y_train,y_val = train_test_split(train_digits_sc,train_labels_cat,test_size=0.1,random_state=32)\n",
        "print(X_train.shape)\n",
        "print(X_val.shape)\n",
        "print(y_train.shape)"
      ],
      "execution_count": 29,
      "outputs": [
        {
          "output_type": "stream",
          "text": [
            "(54000, 28, 28)\n",
            "(6000, 28, 28)\n",
            "(54000, 10)\n"
          ],
          "name": "stdout"
        }
      ]
    },
    {
      "cell_type": "markdown",
      "metadata": {
        "id": "hS4mDLjGcTxC",
        "colab_type": "text"
      },
      "source": [
        "## Build and Train the model"
      ]
    },
    {
      "cell_type": "markdown",
      "metadata": {
        "id": "urosYJMHcWWJ",
        "colab_type": "text"
      },
      "source": [
        "### Build the model"
      ]
    },
    {
      "cell_type": "markdown",
      "metadata": {
        "id": "StSf2Z8NccnN",
        "colab_type": "text"
      },
      "source": [
        "* We need to take 1d array as input for Dense layer.\n",
        "* How many Hidden layers you want to add here?\n",
        "* How many neurons in each hidden layer?\n",
        "* What is activation function for the hidden layers?\n",
        "* How many neurons we should take in the ouput layer?\n",
        "* What is the activation function for the output layer?"
      ]
    },
    {
      "cell_type": "code",
      "metadata": {
        "id": "zM1ujbltczFR",
        "colab_type": "code",
        "colab": {}
      },
      "source": [
        "## import the methods required\n",
        "from keras.models import Sequential\n",
        "from keras.layers import Dense,Flatten"
      ],
      "execution_count": 30,
      "outputs": []
    },
    {
      "cell_type": "code",
      "metadata": {
        "id": "cxdA-xdNc4ql",
        "colab_type": "code",
        "colab": {
          "base_uri": "https://localhost:8080/",
          "height": 34
        },
        "outputId": "eed06fd9-78ca-4982-f803-8b67b4d638f4"
      },
      "source": [
        "784*128+ 128"
      ],
      "execution_count": 31,
      "outputs": [
        {
          "output_type": "execute_result",
          "data": {
            "text/plain": [
              "100480"
            ]
          },
          "metadata": {
            "tags": []
          },
          "execution_count": 31
        }
      ]
    },
    {
      "cell_type": "code",
      "metadata": {
        "id": "7oOwpAW3c-gS",
        "colab_type": "code",
        "colab": {
          "base_uri": "https://localhost:8080/",
          "height": 357
        },
        "outputId": "a808c397-edc9-4493-b9dd-db81c5e60ec2"
      },
      "source": [
        "## We are creating the base model\n",
        "model = Sequential()\n",
        "# first layer we need to mention the input shape\n",
        "model.add(Flatten(input_shape=(28,28))) \n",
        "## 784 pixel values as input to this Dense. 128 Neurons in the layers\n",
        "model.add(Dense(128,activation='relu')) # 784*128+ 128\n",
        "model.add(Dense(128,activation='relu')) #128*128 +128\n",
        "model.add(Dense(64,activation='relu'))\n",
        "model.add(Dense(256,activation='relu'))\n",
        "# Final layer there are 10 classes so use 10 neurons\n",
        "model.add(Dense(10,activation='softmax'))  # relu --> x or 0 for multiple node you will get 1\n",
        "model.summary()"
      ],
      "execution_count": 32,
      "outputs": [
        {
          "output_type": "stream",
          "text": [
            "Model: \"sequential_1\"\n",
            "_________________________________________________________________\n",
            "Layer (type)                 Output Shape              Param #   \n",
            "=================================================================\n",
            "flatten_1 (Flatten)          (None, 784)               0         \n",
            "_________________________________________________________________\n",
            "dense_1 (Dense)              (None, 128)               100480    \n",
            "_________________________________________________________________\n",
            "dense_2 (Dense)              (None, 128)               16512     \n",
            "_________________________________________________________________\n",
            "dense_3 (Dense)              (None, 64)                8256      \n",
            "_________________________________________________________________\n",
            "dense_4 (Dense)              (None, 256)               16640     \n",
            "_________________________________________________________________\n",
            "dense_5 (Dense)              (None, 10)                2570      \n",
            "=================================================================\n",
            "Total params: 144,458\n",
            "Trainable params: 144,458\n",
            "Non-trainable params: 0\n",
            "_________________________________________________________________\n"
          ],
          "name": "stdout"
        }
      ]
    },
    {
      "cell_type": "markdown",
      "metadata": {
        "id": "fL1LU0rudD4o",
        "colab_type": "text"
      },
      "source": [
        "## Compile the model"
      ]
    },
    {
      "cell_type": "markdown",
      "metadata": {
        "id": "cTuDLkG4dJGd",
        "colab_type": "text"
      },
      "source": [
        "* What is the loss function?\n",
        "* what is the optimizer?\n",
        "* What are the metrics?"
      ]
    },
    {
      "cell_type": "code",
      "metadata": {
        "id": "sRfwh1CbdQgM",
        "colab_type": "code",
        "colab": {}
      },
      "source": [
        "model.compile(optimizer= 'adam',loss=tf.keras.losses.CategoricalCrossentropy(),metrics=['accuracy'])"
      ],
      "execution_count": 33,
      "outputs": []
    },
    {
      "cell_type": "markdown",
      "metadata": {
        "id": "idSQIQqBdWSW",
        "colab_type": "text"
      },
      "source": [
        "## Training the model"
      ]
    },
    {
      "cell_type": "code",
      "metadata": {
        "id": "mzYaQ4ckdbv6",
        "colab_type": "code",
        "colab": {
          "base_uri": "https://localhost:8080/",
          "height": 394
        },
        "outputId": "4a7c05de-db3a-4bba-b8b4-e0de82eb8028"
      },
      "source": [
        "history = model.fit(x=X_train,y=y_train,epochs=10,\\\n",
        "                    validation_data=(X_val,y_val),batch_size=32)"
      ],
      "execution_count": 34,
      "outputs": [
        {
          "output_type": "stream",
          "text": [
            "Train on 54000 samples, validate on 6000 samples\n",
            "Epoch 1/10\n",
            "54000/54000 [==============================] - 7s 128us/step - loss: 0.2485 - accuracy: 0.9243 - val_loss: 0.1690 - val_accuracy: 0.9488\n",
            "Epoch 2/10\n",
            "54000/54000 [==============================] - 7s 121us/step - loss: 0.1083 - accuracy: 0.9673 - val_loss: 0.1206 - val_accuracy: 0.9640\n",
            "Epoch 3/10\n",
            "54000/54000 [==============================] - 7s 121us/step - loss: 0.0795 - accuracy: 0.9759 - val_loss: 0.1102 - val_accuracy: 0.9682\n",
            "Epoch 4/10\n",
            "54000/54000 [==============================] - 6s 119us/step - loss: 0.0631 - accuracy: 0.9802 - val_loss: 0.1024 - val_accuracy: 0.9725\n",
            "Epoch 5/10\n",
            "54000/54000 [==============================] - 6s 117us/step - loss: 0.0495 - accuracy: 0.9837 - val_loss: 0.1022 - val_accuracy: 0.9733\n",
            "Epoch 6/10\n",
            "54000/54000 [==============================] - 6s 119us/step - loss: 0.0426 - accuracy: 0.9864 - val_loss: 0.1092 - val_accuracy: 0.9732\n",
            "Epoch 7/10\n",
            "54000/54000 [==============================] - 6s 117us/step - loss: 0.0361 - accuracy: 0.9888 - val_loss: 0.1125 - val_accuracy: 0.9765\n",
            "Epoch 8/10\n",
            "54000/54000 [==============================] - 6s 117us/step - loss: 0.0328 - accuracy: 0.9894 - val_loss: 0.1059 - val_accuracy: 0.9760\n",
            "Epoch 9/10\n",
            "54000/54000 [==============================] - 6s 117us/step - loss: 0.0289 - accuracy: 0.9909 - val_loss: 0.1350 - val_accuracy: 0.9707\n",
            "Epoch 10/10\n",
            "54000/54000 [==============================] - 6s 119us/step - loss: 0.0261 - accuracy: 0.9916 - val_loss: 0.1482 - val_accuracy: 0.9672\n"
          ],
          "name": "stdout"
        }
      ]
    },
    {
      "cell_type": "markdown",
      "metadata": {
        "id": "_ExWa1o1dhZc",
        "colab_type": "text"
      },
      "source": [
        "## Evaluating the model"
      ]
    },
    {
      "cell_type": "code",
      "metadata": {
        "id": "buzy65aBdlbd",
        "colab_type": "code",
        "colab": {
          "base_uri": "https://localhost:8080/",
          "height": 51
        },
        "outputId": "122a6176-f115-4a8a-95d5-337f1e5755ce"
      },
      "source": [
        "model.evaluate(test_digits_sc,test_labels_cat)"
      ],
      "execution_count": 35,
      "outputs": [
        {
          "output_type": "stream",
          "text": [
            "10000/10000 [==============================] - 0s 32us/step\n"
          ],
          "name": "stdout"
        },
        {
          "output_type": "execute_result",
          "data": {
            "text/plain": [
              "[0.1281123208291203, 0.9672999978065491]"
            ]
          },
          "metadata": {
            "tags": []
          },
          "execution_count": 35
        }
      ]
    },
    {
      "cell_type": "code",
      "metadata": {
        "id": "MXsSTzU9dpYF",
        "colab_type": "code",
        "colab": {
          "base_uri": "https://localhost:8080/",
          "height": 68
        },
        "outputId": "1b977a0b-a4df-44d0-e082-cfeec17608e2"
      },
      "source": [
        "print(test_digits_sc.shape)\n",
        "print(test_digits_sc[0].shape)\n",
        "print(np.expand_dims(test_digits_sc[0],axis=0).shape)"
      ],
      "execution_count": 36,
      "outputs": [
        {
          "output_type": "stream",
          "text": [
            "(10000, 28, 28)\n",
            "(28, 28)\n",
            "(1, 28, 28)\n"
          ],
          "name": "stdout"
        }
      ]
    },
    {
      "cell_type": "code",
      "metadata": {
        "id": "rp763xfPdupy",
        "colab_type": "code",
        "colab": {
          "base_uri": "https://localhost:8080/",
          "height": 34
        },
        "outputId": "0c2343c2-76ca-4ce2-bee6-1006bdbb2341"
      },
      "source": [
        "test_labels[0]"
      ],
      "execution_count": 37,
      "outputs": [
        {
          "output_type": "execute_result",
          "data": {
            "text/plain": [
              "7"
            ]
          },
          "metadata": {
            "tags": []
          },
          "execution_count": 37
        }
      ]
    },
    {
      "cell_type": "code",
      "metadata": {
        "id": "T5HhQLpkd4ql",
        "colab_type": "code",
        "colab": {
          "base_uri": "https://localhost:8080/",
          "height": 68
        },
        "outputId": "b56230be-60ea-4386-b7e7-3917931c0707"
      },
      "source": [
        "model.predict(np.expand_dims(test_digits_sc[0],axis=0))"
      ],
      "execution_count": 38,
      "outputs": [
        {
          "output_type": "execute_result",
          "data": {
            "text/plain": [
              "array([[1.2826988e-15, 8.2593397e-07, 1.6522017e-09, 9.8445540e-08,\n",
              "        6.0182048e-10, 9.9977327e-12, 9.0326489e-19, 9.9999237e-01,\n",
              "        1.0410570e-09, 6.6241437e-06]], dtype=float32)"
            ]
          },
          "metadata": {
            "tags": []
          },
          "execution_count": 38
        }
      ]
    },
    {
      "cell_type": "code",
      "metadata": {
        "id": "3hu06x8Xd61E",
        "colab_type": "code",
        "colab": {
          "base_uri": "https://localhost:8080/",
          "height": 527
        },
        "outputId": "8605ed87-6e4b-4566-f9ff-ed28ea8be4cf"
      },
      "source": [
        "model.predict(test_digits_sc[:10])"
      ],
      "execution_count": 39,
      "outputs": [
        {
          "output_type": "execute_result",
          "data": {
            "text/plain": [
              "array([[1.2827037e-15, 8.2593789e-07, 1.6522144e-09, 9.8445916e-08,\n",
              "        6.0182392e-10, 9.9977708e-12, 9.0326830e-19, 9.9999237e-01,\n",
              "        1.0410611e-09, 6.6241632e-06],\n",
              "       [1.6338470e-13, 1.6922256e-12, 1.0000000e+00, 6.3007420e-12,\n",
              "        6.5677529e-15, 1.5618351e-16, 3.0036490e-13, 3.9483057e-09,\n",
              "        8.2118638e-14, 3.9067066e-21],\n",
              "       [4.8167212e-12, 9.9999404e-01, 5.6196761e-08, 3.6427590e-08,\n",
              "        2.0295611e-06, 4.1357597e-09, 1.9358126e-09, 1.9987438e-06,\n",
              "        1.8116446e-06, 3.1579312e-08],\n",
              "       [1.0000000e+00, 1.1530537e-12, 2.8460677e-08, 1.4782041e-10,\n",
              "        3.4332238e-11, 1.5067755e-10, 1.5049933e-08, 4.4250097e-11,\n",
              "        2.9070002e-11, 1.8139070e-09],\n",
              "       [9.8545356e-12, 4.7436689e-08, 6.0968610e-08, 6.7511918e-10,\n",
              "        9.9997973e-01, 1.0051666e-06, 1.0996083e-08, 1.1466352e-08,\n",
              "        1.4580877e-07, 1.8906776e-05],\n",
              "       [7.1524614e-15, 9.9999964e-01, 2.9175212e-10, 7.1973388e-10,\n",
              "        1.2018495e-07, 6.9581394e-12, 5.1845550e-13, 1.1984423e-07,\n",
              "        8.4870834e-08, 1.5496915e-09],\n",
              "       [2.0285437e-10, 2.8902488e-07, 5.6376557e-06, 1.3636687e-08,\n",
              "        9.9994862e-01, 4.3451278e-06, 4.4451753e-08, 1.0369225e-07,\n",
              "        7.3211504e-06, 3.3558121e-05],\n",
              "       [1.5545558e-07, 8.0170473e-08, 4.7521840e-07, 2.0022846e-04,\n",
              "        2.2010967e-05, 2.9281995e-05, 3.6783507e-11, 1.1166537e-05,\n",
              "        2.8960437e-06, 9.9973375e-01],\n",
              "       [1.3434565e-08, 9.4790239e-06, 2.8194333e-06, 1.2965930e-05,\n",
              "        1.4308674e-04, 9.6826673e-01, 7.7915690e-03, 8.3430990e-08,\n",
              "        2.3116058e-02, 6.5717479e-04],\n",
              "       [5.3827294e-09, 1.1414076e-08, 1.1306711e-08, 3.2530272e-07,\n",
              "        1.5625657e-04, 8.8504692e-08, 7.3909612e-13, 1.8688804e-06,\n",
              "        4.4569319e-07, 9.9984097e-01]], dtype=float32)"
            ]
          },
          "metadata": {
            "tags": []
          },
          "execution_count": 39
        }
      ]
    },
    {
      "cell_type": "code",
      "metadata": {
        "id": "ICUbKwM1eBkz",
        "colab_type": "code",
        "colab": {
          "base_uri": "https://localhost:8080/",
          "height": 34
        },
        "outputId": "eb7e974a-85cf-4449-f7f9-76bf97d58774"
      },
      "source": [
        "model.predict_classes(np.expand_dims(test_digits_sc[0],axis=0))"
      ],
      "execution_count": 40,
      "outputs": [
        {
          "output_type": "execute_result",
          "data": {
            "text/plain": [
              "array([7])"
            ]
          },
          "metadata": {
            "tags": []
          },
          "execution_count": 40
        }
      ]
    },
    {
      "cell_type": "code",
      "metadata": {
        "id": "goPYO0YleF8O",
        "colab_type": "code",
        "colab": {
          "base_uri": "https://localhost:8080/",
          "height": 68
        },
        "outputId": "5e40cfa5-560b-4146-a07d-f7f902d3f562"
      },
      "source": [
        "model.predict_proba(np.expand_dims(test_digits_sc[0],axis=0))"
      ],
      "execution_count": 41,
      "outputs": [
        {
          "output_type": "execute_result",
          "data": {
            "text/plain": [
              "array([[1.2826988e-15, 8.2593397e-07, 1.6522017e-09, 9.8445540e-08,\n",
              "        6.0182048e-10, 9.9977327e-12, 9.0326489e-19, 9.9999237e-01,\n",
              "        1.0410570e-09, 6.6241437e-06]], dtype=float32)"
            ]
          },
          "metadata": {
            "tags": []
          },
          "execution_count": 41
        }
      ]
    },
    {
      "cell_type": "code",
      "metadata": {
        "id": "mndP9SFJeFq9",
        "colab_type": "code",
        "colab": {
          "base_uri": "https://localhost:8080/",
          "height": 850
        },
        "outputId": "22d0a4fd-4035-4ce6-fdb0-7df01c0d8b0d"
      },
      "source": [
        "dir(history)"
      ],
      "execution_count": 42,
      "outputs": [
        {
          "output_type": "execute_result",
          "data": {
            "text/plain": [
              "['__class__',\n",
              " '__delattr__',\n",
              " '__dict__',\n",
              " '__dir__',\n",
              " '__doc__',\n",
              " '__eq__',\n",
              " '__format__',\n",
              " '__ge__',\n",
              " '__getattribute__',\n",
              " '__gt__',\n",
              " '__hash__',\n",
              " '__init__',\n",
              " '__init_subclass__',\n",
              " '__le__',\n",
              " '__lt__',\n",
              " '__module__',\n",
              " '__ne__',\n",
              " '__new__',\n",
              " '__reduce__',\n",
              " '__reduce_ex__',\n",
              " '__repr__',\n",
              " '__setattr__',\n",
              " '__sizeof__',\n",
              " '__str__',\n",
              " '__subclasshook__',\n",
              " '__weakref__',\n",
              " 'epoch',\n",
              " 'history',\n",
              " 'model',\n",
              " 'on_batch_begin',\n",
              " 'on_batch_end',\n",
              " 'on_epoch_begin',\n",
              " 'on_epoch_end',\n",
              " 'on_predict_batch_begin',\n",
              " 'on_predict_batch_end',\n",
              " 'on_predict_begin',\n",
              " 'on_predict_end',\n",
              " 'on_test_batch_begin',\n",
              " 'on_test_batch_end',\n",
              " 'on_test_begin',\n",
              " 'on_test_end',\n",
              " 'on_train_batch_begin',\n",
              " 'on_train_batch_end',\n",
              " 'on_train_begin',\n",
              " 'on_train_end',\n",
              " 'params',\n",
              " 'set_model',\n",
              " 'set_params',\n",
              " 'validation_data']"
            ]
          },
          "metadata": {
            "tags": []
          },
          "execution_count": 42
        }
      ]
    },
    {
      "cell_type": "code",
      "metadata": {
        "id": "KmjOdWtEeKww",
        "colab_type": "code",
        "colab": {
          "base_uri": "https://localhost:8080/",
          "height": 697
        },
        "outputId": "2fa05a56-e919-4e9d-dcc2-249e1240c38d"
      },
      "source": [
        "history.history"
      ],
      "execution_count": 43,
      "outputs": [
        {
          "output_type": "execute_result",
          "data": {
            "text/plain": [
              "{'accuracy': [0.9242963,\n",
              "  0.96731484,\n",
              "  0.97585183,\n",
              "  0.9802222,\n",
              "  0.98370373,\n",
              "  0.9864074,\n",
              "  0.98877776,\n",
              "  0.98944443,\n",
              "  0.99087036,\n",
              "  0.9916111],\n",
              " 'loss': [0.24852030802794076,\n",
              "  0.10828753999965611,\n",
              "  0.07954721572219084,\n",
              "  0.06305763351270514,\n",
              "  0.04949478148297338,\n",
              "  0.042591398688710154,\n",
              "  0.03613514878166865,\n",
              "  0.03282440812539965,\n",
              "  0.02894785328466484,\n",
              "  0.02607869211887333],\n",
              " 'val_accuracy': [0.9488333463668823,\n",
              "  0.9639999866485596,\n",
              "  0.9681666493415833,\n",
              "  0.9725000262260437,\n",
              "  0.9733333587646484,\n",
              "  0.9731666445732117,\n",
              "  0.9764999747276306,\n",
              "  0.9760000109672546,\n",
              "  0.9706666469573975,\n",
              "  0.9671666622161865],\n",
              " 'val_loss': [0.1690103596150875,\n",
              "  0.12055320687467853,\n",
              "  0.11021615553150574,\n",
              "  0.10239121996735533,\n",
              "  0.10224051941706178,\n",
              "  0.10921523167286068,\n",
              "  0.11252308045870935,\n",
              "  0.10594695235509426,\n",
              "  0.13495585443475283,\n",
              "  0.148211945896619]}"
            ]
          },
          "metadata": {
            "tags": []
          },
          "execution_count": 43
        }
      ]
    },
    {
      "cell_type": "code",
      "metadata": {
        "id": "xgeBuz_heKqZ",
        "colab_type": "code",
        "colab": {
          "base_uri": "https://localhost:8080/",
          "height": 34
        },
        "outputId": "8b7f1ee6-6ac4-4188-a956-9b2ce1e2a73f"
      },
      "source": [
        "history.history.keys()"
      ],
      "execution_count": 44,
      "outputs": [
        {
          "output_type": "execute_result",
          "data": {
            "text/plain": [
              "dict_keys(['val_loss', 'val_accuracy', 'loss', 'accuracy'])"
            ]
          },
          "metadata": {
            "tags": []
          },
          "execution_count": 44
        }
      ]
    },
    {
      "cell_type": "code",
      "metadata": {
        "id": "oSp_MQMaeYUg",
        "colab_type": "code",
        "colab": {
          "base_uri": "https://localhost:8080/",
          "height": 282
        },
        "outputId": "019d2b47-215e-4f74-cd6e-cfe219e0ac56"
      },
      "source": [
        "plt.plot(range(1,11),history.history['accuracy'])\n",
        "plt.plot(range(1,11),history.history['val_accuracy'])"
      ],
      "execution_count": 45,
      "outputs": [
        {
          "output_type": "execute_result",
          "data": {
            "text/plain": [
              "[<matplotlib.lines.Line2D at 0x7fc0e829fc88>]"
            ]
          },
          "metadata": {
            "tags": []
          },
          "execution_count": 45
        },
        {
          "output_type": "display_data",
          "data": {
            "image/png": "[encoded data removed]",
            "text/plain": [
              "<Figure size 432x288 with 1 Axes>"
            ]
          },
          "metadata": {
            "tags": [],
            "needs_background": "light"
          }
        }
      ]
    }
  ]
}