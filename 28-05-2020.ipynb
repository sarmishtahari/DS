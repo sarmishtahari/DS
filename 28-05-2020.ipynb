{
 "cells": [
  {
   "cell_type": "markdown",
   "metadata": {},
   "source": [
    "1. Introduction\n",
    "2. Numeric Datatypes\n",
    "3. input() and pront()\n",
    "4. control statements -->if,else,elif\n",
    "5. loops -->while,for\n"
   ]
  },
  {
   "cell_type": "markdown",
   "metadata": {},
   "source": [
    "### Strings\n",
    "1. \" \" or ' '(characters) -->'a'\n",
    "2. immutable -->we cannot cny changes\n",
    "3. collection of characters enclosed by quotation marks-->Iterable object"
   ]
  },
  {
   "cell_type": "code",
   "execution_count": 2,
   "metadata": {},
   "outputs": [
    {
     "name": "stdout",
     "output_type": "stream",
     "text": [
      "<class 'str'> <class 'str'>\n"
     ]
    }
   ],
   "source": [
    "s1 = \"Hello\"\n",
    "s2 = 'Good Afternoon'\n",
    "print(type(s1),type(s2))"
   ]
  },
  {
   "cell_type": "code",
   "execution_count": 3,
   "metadata": {},
   "outputs": [
    {
     "name": "stdout",
     "output_type": "stream",
     "text": [
      "enter a stringhello\n",
      "<class 'str'> <class 'str'>\n"
     ]
    }
   ],
   "source": [
    "s1 = input(\"enter a string\")\n",
    "s2 = 'Good Afternoon'\n",
    "print(type(s1),type(s2))"
   ]
  },
  {
   "cell_type": "code",
   "execution_count": 5,
   "metadata": {},
   "outputs": [
    {
     "name": "stdout",
     "output_type": "stream",
     "text": [
      "helloGood Afternoon\n",
      "hellohellohello\n",
      "\n"
     ]
    }
   ],
   "source": [
    "#operators :+,*(repitition),[](slice)\n",
    "print(s1 + s2)#concatenation\n",
    "print(s1 * 3)#Repitition\n",
    "print()"
   ]
  },
  {
   "cell_type": "code",
   "execution_count": 10,
   "metadata": {},
   "outputs": [
    {
     "name": "stdout",
     "output_type": "stream",
     "text": [
      "helloGood Afternoon\n",
      "hellohellohello\n",
      "o\n",
      "o\n",
      "llo\n"
     ]
    }
   ],
   "source": [
    "#operators :+,*(repitition),[](slice),[start:stop](slice range)\n",
    "print(s1 + s2)#concatenation\n",
    "print(s1 * 3)#Repitition\n",
    "print(s1[4])#slicing\n",
    "print(s1[-1])#slicing\n",
    "print(s1[2:])#start=0,stop=Length of the string,step=1"
   ]
  },
  {
   "cell_type": "code",
   "execution_count": 11,
   "metadata": {},
   "outputs": [
    {
     "name": "stdout",
     "output_type": "stream",
     "text": [
      "hello\n",
      "hello\n"
     ]
    }
   ],
   "source": [
    "print(s1[0:5])\n",
    "print(s1[:])"
   ]
  },
  {
   "cell_type": "code",
   "execution_count": 12,
   "metadata": {},
   "outputs": [
    {
     "name": "stdout",
     "output_type": "stream",
     "text": [
      "hlo\n"
     ]
    }
   ],
   "source": [
    "#print Alternate character of the string\n",
    "print(s1[0:5:2])"
   ]
  },
  {
   "cell_type": "code",
   "execution_count": 13,
   "metadata": {},
   "outputs": [
    {
     "name": "stdout",
     "output_type": "stream",
     "text": [
      "enter the stringhari\n"
     ]
    },
    {
     "data": {
      "text/plain": [
       "'irah'"
      ]
     },
     "execution_count": 13,
     "metadata": {},
     "output_type": "execute_result"
    }
   ],
   "source": [
    "#Accept a string from the user whether it is palindrome or not \n",
    "s3=input(\"enter the string\")\n",
    "s3[::-1]"
   ]
  },
  {
   "cell_type": "code",
   "execution_count": 14,
   "metadata": {},
   "outputs": [
    {
     "name": "stdout",
     "output_type": "stream",
     "text": [
      "enter the stringmadam\n",
      "the given string is pallindrome\n"
     ]
    }
   ],
   "source": [
    "#Accept a string from the user whether it is palindrome or not \n",
    "s3=input(\"enter the string\")\n",
    "if(s3==s3[::-1]):\n",
    "    print(\"the given string is pallindrome\")\n",
    "else:\n",
    "    print(\"the given string is not a pallindrome\")\n"
   ]
  },
  {
   "cell_type": "code",
   "execution_count": 15,
   "metadata": {},
   "outputs": [
    {
     "name": "stdout",
     "output_type": "stream",
     "text": [
      "enter a number121\n",
      "the given number is pallindrome\n"
     ]
    }
   ],
   "source": [
    "n=int(input(\"enter a number\"))\n",
    "if str(n) == str(n)[::-1]:\n",
    "    print(\"the given number is pallindrome\")\n",
    "else:\n",
    "    print(\"the given number is not a pallindrome\")\n"
   ]
  },
  {
   "cell_type": "code",
   "execution_count": 18,
   "metadata": {},
   "outputs": [
    {
     "name": "stdout",
     "output_type": "stream",
     "text": [
      "True\n",
      "False\n",
      "False\n",
      "True\n"
     ]
    }
   ],
   "source": [
    "s4 = \"python\"\n",
    "print (\"on\" in s4)\n",
    "print (\"xyz\" in s4)\n",
    "print (\"on\" not in s4)#False\n",
    "print (\"xyz\" not in s4)#True"
   ]
  },
  {
   "cell_type": "markdown",
   "metadata": {},
   "source": [
    "###  Built-in functions:\n",
    "1. len() -->length of the string\n",
    "2. max()\n",
    "3. min()\n",
    "4. str() -->convert the type of string"
   ]
  },
  {
   "cell_type": "code",
   "execution_count": 21,
   "metadata": {},
   "outputs": [
    {
     "name": "stdout",
     "output_type": "stream",
     "text": [
      "5\n",
      "o\n",
      "e\n",
      "c\n",
      "1\n"
     ]
    }
   ],
   "source": [
    "s =\"hello\"\n",
    "s1 = \"abc123\"\n",
    "print(len(s))\n",
    "print(max(s))\n",
    "print(min(s))\n",
    "print(max(s1))\n",
    "print(min(s1))"
   ]
  },
  {
   "cell_type": "markdown",
   "metadata": {},
   "source": [
    "### Build-in methods:\n",
    "1. Capitalize()\n",
    "2. isalpha() -->Returns True when all the characters are alphabets  else false\n",
    "3. isdigit() -->Returns True when all the characters are  digits else false\n",
    "4. isalnum() -->Returns True when all the characters are alphabets or digits else false\n",
    "5. isupper() \n",
    "6. islower()\n",
    "7. upper()\n",
    "8. lower()\n",
    "9. swapcase()"
   ]
  },
  {
   "cell_type": "code",
   "execution_count": 32,
   "metadata": {},
   "outputs": [
    {
     "name": "stdout",
     "output_type": "stream",
     "text": [
      "5\n",
      "Hello\n"
     ]
    }
   ],
   "source": [
    "s =\"hello\"\n",
    "print(len(s))#function name(object name)\n",
    "s = s.capitalize()#object name.method name\n",
    "print(s)"
   ]
  },
  {
   "cell_type": "code",
   "execution_count": 34,
   "metadata": {},
   "outputs": [
    {
     "name": "stdout",
     "output_type": "stream",
     "text": [
      "True\n",
      "False\n",
      "True\n",
      "False\n",
      "False\n",
      "True\n",
      "False\n",
      "True\n",
      "True\n"
     ]
    }
   ],
   "source": [
    "s1 = \"hello\"\n",
    "s2 = \"abc123\"\n",
    "s3 = \"123\"\n",
    "print(s1.isalpha())#true\n",
    "print(s1.isdigit())#false\n",
    "print(s1.isalnum())#true\n",
    "print(s2.isalpha())#false\n",
    "print(s2.isdigit())#false\n",
    "print(s2.isalnum())#true\n",
    "print(s3.isalpha())#false\n",
    "print(s3.isdigit())#true\n",
    "print(s3.isalnum())#true"
   ]
  },
  {
   "cell_type": "code",
   "execution_count": 36,
   "metadata": {},
   "outputs": [
    {
     "name": "stdout",
     "output_type": "stream",
     "text": [
      "False\n",
      "False\n",
      "True\n",
      "False\n"
     ]
    }
   ],
   "source": [
    "s1 =\"Python\"\n",
    "s2 =\"PYTHON\"\n",
    "print(s1.isupper())\n",
    "print(s1.islower())\n",
    "print(s2.isupper())\n",
    "print(s2.islower())"
   ]
  },
  {
   "cell_type": "code",
   "execution_count": 37,
   "metadata": {},
   "outputs": [
    {
     "name": "stdout",
     "output_type": "stream",
     "text": [
      "PYTHON\n",
      "python\n",
      "pYTHON\n"
     ]
    }
   ],
   "source": [
    "print(s1.upper())\n",
    "print(s1.lower())\n",
    "print(s1.swapcase())"
   ]
  },
  {
   "cell_type": "code",
   "execution_count": 39,
   "metadata": {},
   "outputs": [
    {
     "name": "stdout",
     "output_type": "stream",
     "text": [
      "pyTHon\n"
     ]
    }
   ],
   "source": [
    "s = \"PYthON\"\n",
    "print(s.swapcase())"
   ]
  },
  {
   "cell_type": "code",
   "execution_count": 42,
   "metadata": {},
   "outputs": [
    {
     "data": {
      "text/plain": [
       "3"
      ]
     },
     "execution_count": 42,
     "metadata": {},
     "output_type": "execute_result"
    }
   ],
   "source": [
    "s =\"abc abc abc\"\n",
    "s.count(\"abc\")#count returns frequency of the given substring"
   ]
  },
  {
   "cell_type": "code",
   "execution_count": 45,
   "metadata": {},
   "outputs": [
    {
     "name": "stdout",
     "output_type": "stream",
     "text": [
      "['abc', 'abc', 'abc']\n",
      "['a', 'b', 'c', 'd']\n"
     ]
    }
   ],
   "source": [
    "#split() -->return type is list \n",
    "print(s.split())\n",
    "s1=\"a,b,c,d\"\n",
    "print(s1.split(\",\"))"
   ]
  },
  {
   "cell_type": "code",
   "execution_count": 46,
   "metadata": {},
   "outputs": [
    {
     "name": "stdout",
     "output_type": "stream",
     "text": [
      "azc\n"
     ]
    }
   ],
   "source": [
    "#replace()-->\n",
    "s =\"abc\"\n",
    "s =s.replace('b','z')\n",
    "print(s)"
   ]
  },
  {
   "cell_type": "code",
   "execution_count": 50,
   "metadata": {},
   "outputs": [
    {
     "name": "stdout",
     "output_type": "stream",
     "text": [
      "enter position3\n",
      "enter the stringabcabc\n",
      "ababc\n"
     ]
    }
   ],
   "source": [
    "# Accept a number from the user and remove nth position character from the string\n",
    "# n=3\n",
    "# s =bacabc\n",
    "# output : ababc\n",
    "n = int(input(\"enter position\"))\n",
    "s = input(\"enter the string\")\n",
    "print(s.replace(s[n-1],\"\",1))"
   ]
  },
  {
   "cell_type": "markdown",
   "metadata": {},
   "source": [
    "### For Loop:\n",
    "1. for loop with range() function\n",
    "2. for loop with iterable object"
   ]
  },
  {
   "cell_type": "markdown",
   "metadata": {},
   "source": [
    "    for variable in range(start,stop,step):\n",
    "    \t\t\n",
    "            Statements\n"
   ]
  },
  {
   "cell_type": "code",
   "execution_count": 52,
   "metadata": {},
   "outputs": [
    {
     "name": "stdout",
     "output_type": "stream",
     "text": [
      "1\n",
      "2\n",
      "3\n",
      "4\n",
      "5\n",
      "6\n",
      "7\n",
      "8\n",
      "9\n",
      "10\n",
      "\n",
      "1 2 3 4 5 6 7 8 9 10 "
     ]
    }
   ],
   "source": [
    "#print 1-n numbers on the screen\n",
    "n =10\n",
    "for i in range (1,n+1):\n",
    "    print(i,end=\"\\n\")\n",
    "print()\n",
    "i = 1\n",
    "while i<=n:\n",
    "    print(i,end=\" \")\n",
    "    i +=1"
   ]
  },
  {
   "cell_type": "markdown",
   "metadata": {},
   "source": [
    "    for variable in iterable-obj:\n",
    "\n",
    "      statements\n"
   ]
  },
  {
   "cell_type": "code",
   "execution_count": 58,
   "metadata": {},
   "outputs": [
    {
     "name": "stdout",
     "output_type": "stream",
     "text": [
      "p\n",
      "y\n",
      "t\n",
      "h\n",
      "o\n",
      "n\n",
      "p\n",
      "y\n",
      "t\n",
      "h\n",
      "o\n",
      "n\n",
      "p\n",
      "y\n",
      "t\n",
      "h\n",
      "o\n",
      "n\n"
     ]
    }
   ],
   "source": [
    "s = \"python\"\n",
    "for i in s:\n",
    "    print(i)\n",
    "#using while loop print all the characters of your string \n",
    "i=0\n",
    "while(i<len(s)):\n",
    "    print(s[i])\n",
    "    i+=1\n",
    "#using for loop but you should not use iterable object\n",
    "for j in range(0,len(s)):\n",
    "    print(s[j])\n"
   ]
  }
 ],
 "metadata": {
  "kernelspec": {
   "display_name": "Python 3",
   "language": "python",
   "name": "python3"
  },
  "language_info": {
   "codemirror_mode": {
    "name": "ipython",
    "version": 3
   },
   "file_extension": ".py",
   "mimetype": "text/x-python",
   "name": "python",
   "nbconvert_exporter": "python",
   "pygments_lexer": "ipython3",
   "version": "3.7.3"
  }
 },
 "nbformat": 4,
 "nbformat_minor": 2
}
