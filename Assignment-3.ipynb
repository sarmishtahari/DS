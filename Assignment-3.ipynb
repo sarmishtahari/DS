{
 "cells": [
  {
   "cell_type": "markdown",
   "metadata": {},
   "source": [
    "# CSE-221710309053-Hari Sarmishta"
   ]
  },
  {
   "cell_type": "markdown",
   "metadata": {},
   "source": [
    "## Question 1:\n",
    "### Create a function to find Factorial of a number using Recursion\n"
   ]
  },
  {
   "cell_type": "code",
   "execution_count": 5,
   "metadata": {},
   "outputs": [
    {
     "name": "stdout",
     "output_type": "stream",
     "text": [
      "Enter a number: 5\n",
      "120\n"
     ]
    }
   ],
   "source": [
    "def factorial(num):  \n",
    "    if num == 1:  \n",
    "        return num  \n",
    "    else:  \n",
    "        return num*factorial(num-1)  \n",
    "num = int(input(\"Enter a number: \"))  \n",
    "print(factorial(num))  "
   ]
  },
  {
   "cell_type": "markdown",
   "metadata": {},
   "source": [
    "## Question 2:\n",
    "### Create a function and display ‘n’ Fibonacci numbers using Recursion\n"
   ]
  },
  {
   "cell_type": "code",
   "execution_count": 7,
   "metadata": {},
   "outputs": [
    {
     "name": "stdout",
     "output_type": "stream",
     "text": [
      "enter n: 3\n",
      "Fibonacci sequence:\n",
      "0\n",
      "1\n",
      "1\n"
     ]
    }
   ],
   "source": [
    "def recur_fibo(n):  \n",
    "    if n <= 1:  \n",
    "        return n  \n",
    "    else:  \n",
    "        return(recur_fibo(n-1) + recur_fibo(n-2))  \n",
    "nterms = int(input(\"enter n: \"))  \n",
    "if nterms <= 0:  \n",
    "    print(\"Plese enter a positive integer\")  \n",
    "else:  \n",
    "    print(\"Fibonacci sequence:\")  \n",
    "    for i in range(nterms):  \n",
    "        print(recur_fibo(i))  "
   ]
  },
  {
   "cell_type": "markdown",
   "metadata": {},
   "source": [
    "## Question 3:\n",
    "### Print sum of list of elements without using sum() function\n"
   ]
  },
  {
   "cell_type": "code",
   "execution_count": 1,
   "metadata": {},
   "outputs": [
    {
     "name": "stdout",
     "output_type": "stream",
     "text": [
      "Total  239\n"
     ]
    }
   ],
   "source": [
    "list1 = [10, 21, 4, 45, 66, 93] \n",
    "total = 0\n",
    "for num in list1: \n",
    "    total = total + num\n",
    "\n",
    "print(\"Total \", total)"
   ]
  },
  {
   "cell_type": "markdown",
   "metadata": {},
   "source": [
    "## Question 4:\n",
    "### print only even numbers from the list\n"
   ]
  },
  {
   "cell_type": "code",
   "execution_count": 2,
   "metadata": {},
   "outputs": [
    {
     "name": "stdout",
     "output_type": "stream",
     "text": [
      "10 4 66 "
     ]
    }
   ],
   "source": [
    "list1 = [10, 21, 4, 45, 66, 93]  \n",
    "for num in list1: \n",
    "    if num % 2 == 0: \n",
    "        print(num, end = \" \") "
   ]
  },
  {
   "cell_type": "markdown",
   "metadata": {},
   "source": [
    "## Question 5:\n",
    "### Write a Python program to get the smallest number from a list and display index of smallest element of the list\n"
   ]
  },
  {
   "cell_type": "code",
   "execution_count": 3,
   "metadata": {},
   "outputs": [
    {
     "name": "stdout",
     "output_type": "stream",
     "text": [
      "Smallest element is: 4\n",
      "Smallest element Index: 3\n"
     ]
    }
   ],
   "source": [
    "list1 = [10, 21, 4, 45, 66, 93]  \n",
    "tmp = list1[1]\n",
    "i = 0\n",
    "index = 0\n",
    "for num in list1:\n",
    "    i +=1\n",
    "    if num < tmp: \n",
    "        tmp=num\n",
    "        index = i\n",
    "print(\"Smallest element is:\", tmp) \n",
    "print(\"Smallest element Index:\",index)"
   ]
  },
  {
   "cell_type": "markdown",
   "metadata": {},
   "source": [
    "## Question 6:\n",
    "### Write a Python function that checks whether a passed string is palindrome or not.\n"
   ]
  },
  {
   "cell_type": "code",
   "execution_count": 7,
   "metadata": {},
   "outputs": [
    {
     "name": "stdout",
     "output_type": "stream",
     "text": [
      "Yes\n"
     ]
    }
   ],
   "source": [
    "def isPalindrome(str): \n",
    "    for i in range(0, int(len(str)/2)):  \n",
    "        if str[i] != str[len(str)-i-1]: \n",
    "            return False\n",
    "    return True\n",
    "s = \"madam\"\n",
    "ans = isPalindrome(s) \n",
    "  \n",
    "if (ans): \n",
    "    print(\"Yes\") \n",
    "else: \n",
    "    print(\"No\") "
   ]
  },
  {
   "cell_type": "markdown",
   "metadata": {},
   "source": [
    "## Question 7:\n",
    "### Write a Python program to count the number of even and odd numbers from a series of numbers. \n",
    "    Sample numbers : numbers = [1, 2, 3, 4, 5, 6, 7, 8, 9]\n",
    "    Expected Output :\n",
    "    Number of even numbers : 4\n",
    "    Number of odd numbers : 5\n"
   ]
  },
  {
   "cell_type": "code",
   "execution_count": 8,
   "metadata": {},
   "outputs": [
    {
     "name": "stdout",
     "output_type": "stream",
     "text": [
      "Number of even numbers :  4\n",
      "Number of odd numbers :  5\n"
     ]
    }
   ],
   "source": [
    "list1 = [1, 2, 3, 4, 5, 6, 7, 8, 9]\n",
    "evenCnt = 0\n",
    "oddCnt = 0\n",
    "for num in list1:\n",
    "    if num%2 == 0:\n",
    "        evenCnt +=1\n",
    "    else:\n",
    "        oddCnt +=1\n",
    "print(\"Number of even numbers : \", evenCnt)\n",
    "print(\"Number of odd numbers : \", oddCnt)\n"
   ]
  },
  {
   "cell_type": "markdown",
   "metadata": {},
   "source": [
    "## Question 8:\n",
    "### Write a Python program that prints all the numbers from 0 to 6 except 3 and 6.\n",
    "    Note : Use 'continue' statement.\n",
    "    Expected Output : 0 1 2 4 5\n"
   ]
  },
  {
   "cell_type": "code",
   "execution_count": 10,
   "metadata": {},
   "outputs": [
    {
     "name": "stdout",
     "output_type": "stream",
     "text": [
      "0 1 2 4 5 "
     ]
    }
   ],
   "source": [
    "for i in range(0,6):\n",
    "        if i == 3 or i == 6:\n",
    "            continue\n",
    "        else:\n",
    "            print(i, end=\" \")"
   ]
  },
  {
   "cell_type": "markdown",
   "metadata": {},
   "source": [
    "## Question 9:\n",
    "### Write a python function to check whether the given number is prime or not"
   ]
  },
  {
   "cell_type": "code",
   "execution_count": 11,
   "metadata": {},
   "outputs": [
    {
     "name": "stdout",
     "output_type": "stream",
     "text": [
      "Enter any number: 9\n",
      "9 is not a prime number\n"
     ]
    }
   ],
   "source": [
    "number = int(input(\"Enter any number: \"))\n",
    "\n",
    "# prime number is always greater than 1\n",
    "if number > 1:\n",
    "    for i in range(2, number):\n",
    "        if (number % i) == 0:\n",
    "            print(number, \"is not a prime number\")\n",
    "            break\n",
    "    else:\n",
    "        print(number, \"is a prime number\")\n",
    "\n",
    "# if the entered number is less than or equal to 1\n",
    "# then it is not prime number\n",
    "else:\n",
    "    print(number, \"is not a prime number\")"
   ]
  },
  {
   "cell_type": "markdown",
   "metadata": {},
   "source": [
    "## Question 10:\n",
    "### Write a python function to check whether the given number is Adam number or not\n",
    "    Example: \n",
    "    Input : 12\n",
    "    Output : Adam Number\n",
    "\n",
    "    Explanation: 12*12 = 144\n",
    "    Reverse of 12 is 21 → 21*21 =441\n",
    "    Reverse of 144 == 441"
   ]
  },
  {
   "cell_type": "code",
   "execution_count": 3,
   "metadata": {},
   "outputs": [
    {
     "name": "stdout",
     "output_type": "stream",
     "text": [
      "12\n",
      "Adam number\n"
     ]
    }
   ],
   "source": [
    "num = int(input())\n",
    "def rev(num):\n",
    "    return(int(str(num)[::-1]))\n",
    "def adam(num):\n",
    "    if rev(num)**2==rev(num**2):\n",
    "        return('Adam number')\n",
    "    else:\n",
    "        return('Not a Adam number')\n",
    "print(adam(num))"
   ]
  }
 ],
 "metadata": {
  "kernelspec": {
   "display_name": "Python 3",
   "language": "python",
   "name": "python3"
  },
  "language_info": {
   "codemirror_mode": {
    "name": "ipython",
    "version": 3
   },
   "file_extension": ".py",
   "mimetype": "text/x-python",
   "name": "python",
   "nbconvert_exporter": "python",
   "pygments_lexer": "ipython3",
   "version": "3.7.3"
  }
 },
 "nbformat": 4,
 "nbformat_minor": 2
}
