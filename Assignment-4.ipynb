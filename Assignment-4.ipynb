{
 "cells": [
  {
   "cell_type": "markdown",
   "metadata": {},
   "source": [
    "# CSE-221710309053-Hari Sarmishta"
   ]
  },
  {
   "cell_type": "markdown",
   "metadata": {},
   "source": [
    "## Question 1:\n",
    "### Count the no.of words,no.of letters,no.of lines available in your file"
   ]
  },
  {
   "cell_type": "code",
   "execution_count": 4,
   "metadata": {},
   "outputs": [
    {
     "name": "stdout",
     "output_type": "stream",
     "text": [
      "Number of words in text file:  25\n",
      "Number of lines in text file:  4\n",
      "Number of letters in text file:  91\n"
     ]
    }
   ],
   "source": [
    "def counter(fname): \n",
    "    num_words = 0\n",
    "    num_lines = 0\n",
    "    num_charc = 0\n",
    "    num_spaces = 0\n",
    "      \n",
    "    with open(fname, 'r') as f: \n",
    "        for line in f: \n",
    "            num_lines += 1\n",
    "            word = 'Y'\n",
    "            for letter in line: \n",
    "                if (letter != ' ' and word == 'Y'): \n",
    "                    num_words += 1\n",
    "                    word = 'N'\n",
    "                elif (letter == ' '): \n",
    "                    num_spaces += 1\n",
    "                    word = 'Y'\n",
    "                      \n",
    "                for i in letter: \n",
    "                    if(i !=\" \" and i !=\"\\n\"): \n",
    "                        num_charc += 1\n",
    "                          \n",
    "    print(\"Number of words in text file: \", num_words) \n",
    "    print(\"Number of lines in text file: \", num_lines) \n",
    "    print('Number of letters in text file: ', num_charc) \n",
    "      \n",
    "# Driver Code:  \n",
    "if __name__ == '__main__':  \n",
    "    fname = 'File1.txt'\n",
    "    try:  \n",
    "        counter(fname)  \n",
    "    except:  \n",
    "        print('File not found') "
   ]
  },
  {
   "cell_type": "markdown",
   "metadata": {},
   "source": [
    "## Question 2:\n",
    "### Copy the content of one file to another\n"
   ]
  },
  {
   "cell_type": "code",
   "execution_count": 16,
   "metadata": {},
   "outputs": [],
   "source": [
    "f = open(\"File1.txt\",\"r\")\n",
    "data = f.read()\n",
    "f.close()\n",
    "\n",
    "f = open(\"File2.txt\",\"x\")\n",
    "f.write(data)\n",
    "f.close()"
   ]
  },
  {
   "cell_type": "markdown",
   "metadata": {},
   "source": [
    "## Question 3:\n",
    "### Display the words starting with letter 'p'\n"
   ]
  },
  {
   "cell_type": "code",
   "execution_count": 12,
   "metadata": {},
   "outputs": [
    {
     "name": "stdout",
     "output_type": "stream",
     "text": [
      "purpose\n",
      "programming\n"
     ]
    }
   ],
   "source": [
    "\n",
    "str = \"Python is a general purpose and high level programming language.\"\n",
    "for i in str.split():\n",
    "    if i.startswith('p'):\n",
    "        print(i)\n"
   ]
  },
  {
   "cell_type": "markdown",
   "metadata": {},
   "source": [
    "## Question 4:\n",
    "### Rename and remove files"
   ]
  },
  {
   "cell_type": "code",
   "execution_count": 17,
   "metadata": {},
   "outputs": [],
   "source": [
    "import os\n",
    "os.rename(r'File1.txt',r'File3.txt')\n",
    "os.remove('File3.txt')"
   ]
  },
  {
   "cell_type": "markdown",
   "metadata": {},
   "source": [
    "## Question 5:\n",
    "1. Create a folder \n",
    "2. Goto that folder and create 5 no.of files\n",
    "3. All the file names should be unique\n",
    "4. Add some content into the file and the content in all the files should be unique\n",
    "5. File size should be 512bits\n"
   ]
  },
  {
   "cell_type": "code",
   "execution_count": 3,
   "metadata": {},
   "outputs": [
    {
     "name": "stdout",
     "output_type": "stream",
     "text": [
      "Directory '221710309053' created\n"
     ]
    }
   ],
   "source": [
    "import os  \n",
    "\n",
    "directory = \"221710309053\"\n",
    "    \n",
    "# Parent Directories  \n",
    "parent_dir = \"Students\"\n",
    "    \n",
    "# Path  \n",
    "path = os.path.join(parent_dir, directory)  \n",
    "    \n",
    "os.makedirs(path)  \n",
    "print(\"Directory '% s' created\" % directory)  \n",
    "\n",
    "os.chdir(\"Students/221710309053\")\n",
    "f = open(\"File1.txt\",\"x\")\n",
    "f.write(\"This is my File 1\")\n",
    "f.close()\n",
    "\n",
    "f = open(\"File2.txt\",\"x\")\n",
    "f.write(\"This is my File 2\")\n",
    "f.close()\n",
    "\n",
    "f = open(\"File3.txt\",\"x\")\n",
    "f.write(\"This is my File 3\")\n",
    "f.close()\n",
    "\n",
    "f = open(\"File4.txt\",\"x\")\n",
    "f.write(\"This is my File 4\")\n",
    "f.close()\n",
    "\n",
    "f = open(\"File5.txt\",\"x\")\n",
    "f.write(\"This is my File 5\")\n",
    "f.close()\n"
   ]
  }
 ],
 "metadata": {
  "kernelspec": {
   "display_name": "Python 3",
   "language": "python",
   "name": "python3"
  },
  "language_info": {
   "codemirror_mode": {
    "name": "ipython",
    "version": 3
   },
   "file_extension": ".py",
   "mimetype": "text/x-python",
   "name": "python",
   "nbconvert_exporter": "python",
   "pygments_lexer": "ipython3",
   "version": "3.7.3"
  }
 },
 "nbformat": 4,
 "nbformat_minor": 2
}
