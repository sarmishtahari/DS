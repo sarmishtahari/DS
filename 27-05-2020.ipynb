{
 "cells": [
  {
   "cell_type": "markdown",
   "metadata": {},
   "source": [
    "# Python Programming\n",
    "## Python Programming\n",
    "### Python Programming\n",
    "#### Python Programming\n",
    "##### Python Programming\n",
    "###### Python Programming"
   ]
  },
  {
   "cell_type": "markdown",
   "metadata": {},
   "source": [
    "### List Of Programming Languages:(Ordered list)\n",
    "1. Python\n",
    "2. Java\n",
    "3. C\n",
    "4. C++\n",
    "5. .Net"
   ]
  },
  {
   "cell_type": "markdown",
   "metadata": {},
   "source": [
    "### List Of Programming Languages :(UnOrdered list)\n",
    "- Python\n",
    "    - core Python\n",
    "    - adv Python\n",
    "- Java\n",
    "- C\n",
    "- C++\n",
    "- .Net"
   ]
  },
  {
   "cell_type": "markdown",
   "metadata": {},
   "source": [
    "Bold and Italic\n",
    "- **Python Programming**\n",
    "- *Python Programming*"
   ]
  },
  {
   "cell_type": "markdown",
   "metadata": {},
   "source": [
    "!.[image].(https://cdn.pixabay.com/photo/2015/04/23/22/00/tree-736885__340.jpg)"
   ]
  },
  {
   "cell_type": "markdown",
   "metadata": {},
   "source": [
    "[click here](https://docs.google.com/document/d/1NUWRUi53uEEP8sUAKZGx4nDbi3ExZf0GUEpE5vi8n34/edit#)"
   ]
  },
  {
   "cell_type": "markdown",
   "metadata": {},
   "source": [
    "<img src=\"https://cdn.pixabay.com/photo/2015/04/23/22/00/tree-736885__340.jpg\" width=200 height=200>"
   ]
  },
  {
   "cell_type": "markdown",
   "metadata": {},
   "source": [
    "1. Different Paradigms\n",
    "2. Interpreted PL\n",
    "3. Open source\n",
    "4. Object Oriented PL\n",
    "### Guido Van Rossum"
   ]
  },
  {
   "cell_type": "markdown",
   "metadata": {},
   "source": [
    "## Numeric Data Types:\n",
    "1. int\n",
    "2. float\n",
    "3. complex"
   ]
  },
  {
   "cell_type": "code",
   "execution_count": 6,
   "metadata": {},
   "outputs": [
    {
     "name": "stdout",
     "output_type": "stream",
     "text": [
      "<class 'int'> <class 'float'> <class 'complex'>\n"
     ]
    }
   ],
   "source": [
    "a=10 #integer\n",
    "b=23.34 #float\n",
    "c=12+3j #complexnumber\n",
    "print(type(a),type(b),type(c))"
   ]
  },
  {
   "cell_type": "code",
   "execution_count": 11,
   "metadata": {},
   "outputs": [
    {
     "name": "stdout",
     "output_type": "stream",
     "text": [
      "(10+13j)\n",
      "6.0\n",
      "8.0\n"
     ]
    }
   ],
   "source": [
    "c1 =4 +5j\n",
    "c2 =complex(6,8)\n",
    "print(c1+c2)\n",
    "print(c2.real) #real part of the complex number\n",
    "print(c2.imag) #imag part of the complex number"
   ]
  },
  {
   "cell_type": "code",
   "execution_count": 13,
   "metadata": {},
   "outputs": [
    {
     "name": "stdout",
     "output_type": "stream",
     "text": [
      "Enter the value of a10\n",
      "Enter the value of b20\n",
      "30\n",
      "-10\n"
     ]
    }
   ],
   "source": [
    "#input and output functions\n",
    "#input --> input()\n",
    "#output --> output()\n",
    "a= int(input(\"Enter the value of a\"))\n",
    "b= int(input(\"Enter the value of b\"))\n",
    "print(a+b)\n",
    "print(a-b)\n"
   ]
  },
  {
   "cell_type": "code",
   "execution_count": 15,
   "metadata": {},
   "outputs": [
    {
     "name": "stdout",
     "output_type": "stream",
     "text": [
      "Enter the value of a10\n",
      "Enter the value of b20\n",
      "30 -10\n",
      "200\n",
      "0.5\n"
     ]
    }
   ],
   "source": [
    "#input and output functions\n",
    "#input --> input()\n",
    "#output --> output()\n",
    "a= int(input(\"Enter the value of a\"))\n",
    "b= int(input(\"Enter the value of b\"))\n",
    "print(a+b,end=\" \")\n",
    "print(a-b)\n",
    "print(a*b)\n",
    "print(a/b)"
   ]
  },
  {
   "cell_type": "code",
   "execution_count": 17,
   "metadata": {},
   "outputs": [
    {
     "name": "stdout",
     "output_type": "stream",
     "text": [
      "Enter the value of a10\n",
      "Enter the value of b20\n",
      "30 -10,200,0.5\n"
     ]
    }
   ],
   "source": [
    "#input and output functions\n",
    "#input --> input()\n",
    "#output --> output()\n",
    "a= int(input(\"Enter the value of a\"))\n",
    "b= int(input(\"Enter the value of b\"))\n",
    "print(a+b,end=\" \")\n",
    "print(a-b,a*b,a/b,sep=\",\")\n"
   ]
  },
  {
   "cell_type": "markdown",
   "metadata": {},
   "source": [
    "## Operators:symbols which performs some specific task\n",
    "## Operands:values given to operators are known as operands "
   ]
  },
  {
   "cell_type": "code",
   "execution_count": 20,
   "metadata": {},
   "outputs": [
    {
     "name": "stdout",
     "output_type": "stream",
     "text": [
      "enter a value2\n",
      "enter b value5\n",
      "7\n",
      "-3\n",
      "10\n",
      "0.4\n",
      "2\n",
      "0\n",
      "32\n"
     ]
    }
   ],
   "source": [
    "#Arithmetic operators: +,-,*,/,%,//(floor division),**(exponential)\n",
    "a=int(input(\"enter a value\"))\n",
    "b=int(input(\"enter b value\"))\n",
    "print(a+b)\n",
    "print(a-b)\n",
    "print(a*b)\n",
    "print(a/b)#float quotient\n",
    "print(a%b)#remainder\n",
    "print(a//b)#int quotient\n",
    "print(a**b)# 2 5\n"
   ]
  },
  {
   "cell_type": "code",
   "execution_count": 23,
   "metadata": {},
   "outputs": [
    {
     "name": "stdout",
     "output_type": "stream",
     "text": [
      "True\n",
      "False\n",
      "True\n",
      "False\n",
      "False\n",
      "True\n"
     ]
    }
   ],
   "source": [
    "#Relational operators:<,>,<=,>=,==,!=\n",
    "print(a<b)#True\n",
    "print(a>b)\n",
    "print(a<=b)\n",
    "print(a>=b)\n",
    "print(a==b)\n",
    "print(a!=b)"
   ]
  },
  {
   "cell_type": "code",
   "execution_count": 27,
   "metadata": {},
   "outputs": [
    {
     "name": "stdout",
     "output_type": "stream",
     "text": [
      "True\n",
      "True\n",
      "False\n"
     ]
    }
   ],
   "source": [
    "#Logical operators: and ,or,not\n",
    "#print(help(\"keywords\"))\n",
    "print(a<b and a>1)\n",
    "print(a<b or a>1)\n",
    "print(not a<b)"
   ]
  },
  {
   "cell_type": "code",
   "execution_count": 29,
   "metadata": {},
   "outputs": [
    {
     "name": "stdout",
     "output_type": "stream",
     "text": [
      "True\n",
      "False\n",
      "False\n",
      "True\n"
     ]
    }
   ],
   "source": [
    "#Membership operators:in ,not in\n",
    "list1=[12,23,34,45,56,67]\n",
    "print(12 in list1)\n",
    "print(120 in list1)\n",
    "print(12  not in list1)\n",
    "print(120 not  in list1)"
   ]
  },
  {
   "cell_type": "code",
   "execution_count": 35,
   "metadata": {},
   "outputs": [
    {
     "name": "stdout",
     "output_type": "stream",
     "text": [
      "a is less than b\n"
     ]
    }
   ],
   "source": [
    "#Conditional statements:if,else,elif\n",
    "if a<b:\n",
    "    print(\"a is less than b\")\n",
    "elif(a>b):\n",
    "    print(\"a is greater than b\")\n",
    "else:\n",
    "    print(\"a or equals to b\")"
   ]
  },
  {
   "cell_type": "code",
   "execution_count": 37,
   "metadata": {},
   "outputs": [
    {
     "name": "stdout",
     "output_type": "stream",
     "text": [
      "enter a value10\n",
      "enter b value20\n",
      "enter c value30\n",
      "largest number is c: 30\n"
     ]
    }
   ],
   "source": [
    "#Question: Find the largest of three numbers\n",
    "a=int(input(\"enter a value\"))\n",
    "b=int(input(\"enter b value\"))\n",
    "c=int(input(\"enter c value\"))\n",
    "if a<b and a>c:\n",
    "    print(\"largest number is a:\",a)\n",
    "elif b>c:\n",
    "    print(\"largest number is b:\",b)\n",
    "else:\n",
    "    print(\"largest number is c:\",c)"
   ]
  },
  {
   "cell_type": "code",
   "execution_count": 39,
   "metadata": {},
   "outputs": [
    {
     "name": "stdout",
     "output_type": "stream",
     "text": [
      "enter n value10\n",
      "1 2 3 4 5 6 7 8 9 10 "
     ]
    }
   ],
   "source": [
    "#Loops:while,for\n",
    "#print 1to n values\n",
    "n=int(input(\"enter n value\"))\n",
    "i=1\n",
    "while i<=n:\n",
    "    print(i,end= \" \")\n",
    "    i += 1#i=i+1\n"
   ]
  },
  {
   "cell_type": "code",
   "execution_count": null,
   "metadata": {},
   "outputs": [],
   "source": []
  }
 ],
 "metadata": {
  "kernelspec": {
   "display_name": "Python 3",
   "language": "python",
   "name": "python3"
  },
  "language_info": {
   "codemirror_mode": {
    "name": "ipython",
    "version": 3
   },
   "file_extension": ".py",
   "mimetype": "text/x-python",
   "name": "python",
   "nbconvert_exporter": "python",
   "pygments_lexer": "ipython3",
   "version": "3.7.3"
  }
 },
 "nbformat": 4,
 "nbformat_minor": 2
}
