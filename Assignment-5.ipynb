{
 "cells": [
  {
   "cell_type": "markdown",
   "metadata": {},
   "source": [
    "# CSE-221710309053-Hari Sarmishta"
   ]
  },
  {
   "cell_type": "markdown",
   "metadata": {},
   "source": [
    "## Password Picker\n",
    "### Write a code to generate Password "
   ]
  },
  {
   "cell_type": "code",
   "execution_count": 4,
   "metadata": {},
   "outputs": [
    {
     "name": "stdout",
     "output_type": "stream",
     "text": [
      "coolHyderabad42(\n",
      "Want another password? [Y/N] Y\n",
      "happygitam43_\n",
      "Want another password? [Y/N] Y\n",
      "goodHyderabad58*\n",
      "Want another password? [Y/N] Y\n",
      "happygitam69=\n",
      "Want another password? [Y/N] Y\n",
      "coolgitam88\\\n",
      "Want another password? [Y/N] Y\n",
      "coolgitam84%\n",
      "Want another password? [Y/N] Y\n",
      "coolDhyanahita48^\n",
      "Want another password? [Y/N] Y\n",
      "coolLaptop57<\n",
      "Want another password? [Y/N] n\n"
     ]
    }
   ],
   "source": [
    "import random,string\n",
    "\n",
    "def passwordGenerator():\n",
    "    \n",
    "    adjectives =[\"good\", \"bad\", \"fair\", \"cool\", \"happy\"]\n",
    "    noun = [\"gitam\", \"Hyderabad\",\"Dhyanahita\",\"Laptop\",\"dog\"]\n",
    "   \n",
    "    password =random.choice(adjectives)+random.choice(noun)+str(random.randint(1,100))+random.choice(string.punctuation)\n",
    "    print(password)\n",
    "    \n",
    "\n",
    "passwordGenerator()\n",
    "choice = str(input(\"Want another password? [Y/N] \"))\n",
    "while(choice.upper() == \"Y\"):\n",
    "    passwordGenerator()\n",
    "    choice = str(input(\"Want another password? [Y/N] \"))\n",
    "\n"
   ]
  }
 ],
 "metadata": {
  "kernelspec": {
   "display_name": "Python 3",
   "language": "python",
   "name": "python3"
  },
  "language_info": {
   "codemirror_mode": {
    "name": "ipython",
    "version": 3
   },
   "file_extension": ".py",
   "mimetype": "text/x-python",
   "name": "python",
   "nbconvert_exporter": "python",
   "pygments_lexer": "ipython3",
   "version": "3.7.3"
  }
 },
 "nbformat": 4,
 "nbformat_minor": 2
}
