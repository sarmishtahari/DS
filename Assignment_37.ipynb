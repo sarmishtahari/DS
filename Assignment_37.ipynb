{
  "nbformat": 4,
  "nbformat_minor": 0,
  "metadata": {
    "colab": {
      "name": "Assignment-37.ipynb",
      "provenance": [],
      "authorship_tag": "ABX9TyM3b3Af3l/Lj1h5t9E5apO2",
      "include_colab_link": true
    },
    "kernelspec": {
      "name": "python3",
      "display_name": "Python 3"
    }
  },
  "cells": [
    {
      "cell_type": "markdown",
      "metadata": {
        "id": "view-in-github",
        "colab_type": "text"
      },
      "source": [
        "<a href=\"https://colab.research.google.com/github/sarmishtahari/DS/blob/master/Assignment_37.ipynb\" target=\"_parent\"><img src=\"https://colab.research.google.com/assets/colab-badge.svg\" alt=\"Open In Colab\"/></a>"
      ]
    },
    {
      "cell_type": "markdown",
      "metadata": {
        "id": "MHbqLHA2fOe9",
        "colab_type": "text"
      },
      "source": [
        "# CSE- 221710309053-Hari Sarmishta"
      ]
    },
    {
      "cell_type": "markdown",
      "metadata": {
        "id": "ENG2Zp7mfWuX",
        "colab_type": "text"
      },
      "source": [
        "## Question:\n",
        "  Try Digit recognition with Two different ANN’s. Fit the models with 5 epochs.\n",
        "\n",
        "  Choose the best one."
      ]
    },
    {
      "cell_type": "code",
      "metadata": {
        "id": "ZE0u0oPHfpqU",
        "colab_type": "code",
        "colab": {}
      },
      "source": [
        "import tensorflow as tf\n",
        "import tensorflow.keras as keras\n",
        "import numpy as np\n",
        "import matplotlib.pyplot as plt\n",
        "%matplotlib inline"
      ],
      "execution_count": 1,
      "outputs": []
    },
    {
      "cell_type": "code",
      "metadata": {
        "id": "rWrx0FC0fwTB",
        "colab_type": "code",
        "colab": {
          "base_uri": "https://localhost:8080/",
          "height": 34
        },
        "outputId": "7c06a8eb-29f9-45e6-ca06-891e4b7d4fb2"
      },
      "source": [
        "from keras.datasets.mnist import load_data"
      ],
      "execution_count": 2,
      "outputs": [
        {
          "output_type": "stream",
          "text": [
            "Using TensorFlow backend.\n"
          ],
          "name": "stderr"
        }
      ]
    },
    {
      "cell_type": "code",
      "metadata": {
        "id": "H-NNeAFuf4ds",
        "colab_type": "code",
        "colab": {
          "base_uri": "https://localhost:8080/",
          "height": 85
        },
        "outputId": "65fe5262-cb53-4ed7-bffc-cf7cc980465f"
      },
      "source": [
        "(train_digits,train_labels),(test_digits,test_labels)=load_data()\n",
        "print(train_digits.shape)\n",
        "print(test_digits.shape)"
      ],
      "execution_count": 3,
      "outputs": [
        {
          "output_type": "stream",
          "text": [
            "Downloading data from https://s3.amazonaws.com/img-datasets/mnist.npz\n",
            "11493376/11490434 [==============================] - 2s 0us/step\n",
            "(60000, 28, 28)\n",
            "(10000, 28, 28)\n"
          ],
          "name": "stdout"
        }
      ]
    },
    {
      "cell_type": "code",
      "metadata": {
        "id": "s8lsOWXMf9u5",
        "colab_type": "code",
        "colab": {
          "base_uri": "https://localhost:8080/",
          "height": 221
        },
        "outputId": "40d71646-119f-45b1-d0a3-91d41f70c776"
      },
      "source": [
        "import pandas as pd\n",
        "pd.Series(train_labels).value_counts"
      ],
      "execution_count": 4,
      "outputs": [
        {
          "output_type": "execute_result",
          "data": {
            "text/plain": [
              "<bound method IndexOpsMixin.value_counts of 0        5\n",
              "1        0\n",
              "2        4\n",
              "3        1\n",
              "4        9\n",
              "        ..\n",
              "59995    8\n",
              "59996    3\n",
              "59997    5\n",
              "59998    6\n",
              "59999    8\n",
              "Length: 60000, dtype: uint8>"
            ]
          },
          "metadata": {
            "tags": []
          },
          "execution_count": 4
        }
      ]
    },
    {
      "cell_type": "code",
      "metadata": {
        "id": "nal0cxvTgCMZ",
        "colab_type": "code",
        "colab": {
          "base_uri": "https://localhost:8080/",
          "height": 221
        },
        "outputId": "c73cacb7-3e06-49dd-c129-bdc7bc6f5b76"
      },
      "source": [
        "pd.Series(test_labels).value_counts"
      ],
      "execution_count": 5,
      "outputs": [
        {
          "output_type": "execute_result",
          "data": {
            "text/plain": [
              "<bound method IndexOpsMixin.value_counts of 0       7\n",
              "1       2\n",
              "2       1\n",
              "3       0\n",
              "4       4\n",
              "       ..\n",
              "9995    2\n",
              "9996    3\n",
              "9997    4\n",
              "9998    5\n",
              "9999    6\n",
              "Length: 10000, dtype: uint8>"
            ]
          },
          "metadata": {
            "tags": []
          },
          "execution_count": 5
        }
      ]
    },
    {
      "cell_type": "code",
      "metadata": {
        "id": "63bqgHg5gCKN",
        "colab_type": "code",
        "colab": {
          "base_uri": "https://localhost:8080/",
          "height": 282
        },
        "outputId": "c02340f5-b86a-4d8e-9724-fa7e57a9ec17"
      },
      "source": [
        "plt.imshow(train_digits[0])"
      ],
      "execution_count": 6,
      "outputs": [
        {
          "output_type": "execute_result",
          "data": {
            "text/plain": [
              "<matplotlib.image.AxesImage at 0x7f032846f4a8>"
            ]
          },
          "metadata": {
            "tags": []
          },
          "execution_count": 6
        },
        {
          "output_type": "display_data",
          "data": {
            "image/png": "[encoded data removed]",
            "text/plain": [
              "<Figure size 432x288 with 1 Axes>"
            ]
          },
          "metadata": {
            "tags": [],
            "needs_background": "light"
          }
        }
      ]
    },
    {
      "cell_type": "code",
      "metadata": {
        "id": "jO8PJgHDgCIA",
        "colab_type": "code",
        "colab": {
          "base_uri": "https://localhost:8080/",
          "height": 298
        },
        "outputId": "2c448404-fa97-46e3-98bf-13e380b0237f"
      },
      "source": [
        "plt.title(\"Digit:\"+str(train_labels[0]))\n",
        "plt.imshow(train_digits[0],cmap=\"gray\")"
      ],
      "execution_count": 7,
      "outputs": [
        {
          "output_type": "execute_result",
          "data": {
            "text/plain": [
              "<matplotlib.image.AxesImage at 0x7f0327f265f8>"
            ]
          },
          "metadata": {
            "tags": []
          },
          "execution_count": 7
        },
        {
          "output_type": "display_data",
          "data": {
            "image/png": "[encoded data removed]",
            "text/plain": [
              "<Figure size 432x288 with 1 Axes>"
            ]
          },
          "metadata": {
            "tags": [],
            "needs_background": "light"
          }
        }
      ]
    },
    {
      "cell_type": "code",
      "metadata": {
        "id": "n7Yyz5WngCFf",
        "colab_type": "code",
        "colab": {
          "base_uri": "https://localhost:8080/",
          "height": 265
        },
        "outputId": "114e4788-76dd-4b40-9d3a-7907b2ebaaf6"
      },
      "source": [
        "plt.hist(train_digits[0])\n",
        "plt.show()"
      ],
      "execution_count": 8,
      "outputs": [
        {
          "output_type": "display_data",
          "data": {
            "image/png": "[encoded data removed]",
            "text/plain": [
              "<Figure size 432x288 with 1 Axes>"
            ]
          },
          "metadata": {
            "tags": [],
            "needs_background": "light"
          }
        }
      ]
    },
    {
      "cell_type": "code",
      "metadata": {
        "id": "U_95QPeIgB-a",
        "colab_type": "code",
        "colab": {
          "base_uri": "https://localhost:8080/",
          "height": 51
        },
        "outputId": "de42ddcc-75d8-476d-94b4-934a03ec4733"
      },
      "source": [
        "sample=np.random.randint(train_digits.shape[0],size=16)\n",
        "sample"
      ],
      "execution_count": 9,
      "outputs": [
        {
          "output_type": "execute_result",
          "data": {
            "text/plain": [
              "array([29469, 43450, 10203, 29514, 34163, 56794, 28420,  4821, 38743,\n",
              "       37403,  8630, 46733, 27692, 15634, 55211, 49409])"
            ]
          },
          "metadata": {
            "tags": []
          },
          "execution_count": 9
        }
      ]
    },
    {
      "cell_type": "code",
      "metadata": {
        "id": "i2YeZMcwgB8h",
        "colab_type": "code",
        "colab": {
          "base_uri": "https://localhost:8080/",
          "height": 917
        },
        "outputId": "ff2ae2bf-ed3a-4a9f-f9ca-a88a2b98c35f"
      },
      "source": [
        "plt.figure(figsize=(16,16))\n",
        "j=1\n",
        "for i in sample:\n",
        "  plt.subplot(4,4,j)\n",
        "  plt.imshow(train_digits[i])\n",
        "  plt.title(\"Digit:\"+str(train_labels[i]))\n",
        "  plt.axis(\"off\")\n",
        "  j=j+1"
      ],
      "execution_count": 11,
      "outputs": [
        {
          "output_type": "display_data",
          "data": {
            "image/png": "[encoded data removed]",
            "text/plain": [
              "<Figure size 1152x1152 with 16 Axes>"
            ]
          },
          "metadata": {
            "tags": [],
            "needs_background": "light"
          }
        }
      ]
    },
    {
      "cell_type": "code",
      "metadata": {
        "id": "iG3qitbJgB6a",
        "colab_type": "code",
        "colab": {}
      },
      "source": [
        "train_digits_sc=train_digits/255.0\n",
        "test_digits_sc=test_digits/255.0"
      ],
      "execution_count": 12,
      "outputs": []
    },
    {
      "cell_type": "code",
      "metadata": {
        "id": "NQSEXmGjgB2N",
        "colab_type": "code",
        "colab": {}
      },
      "source": [
        "from keras.utils import to_categorical"
      ],
      "execution_count": 13,
      "outputs": []
    },
    {
      "cell_type": "code",
      "metadata": {
        "id": "8uSGAzvphh7_",
        "colab_type": "code",
        "colab": {}
      },
      "source": [
        "train_labels_cat=to_categorical(train_labels)"
      ],
      "execution_count": 14,
      "outputs": []
    },
    {
      "cell_type": "code",
      "metadata": {
        "id": "heBhHt50hhzz",
        "colab_type": "code",
        "colab": {}
      },
      "source": [
        "test_labels_cat=to_categorical(test_labels)"
      ],
      "execution_count": 15,
      "outputs": []
    },
    {
      "cell_type": "code",
      "metadata": {
        "id": "5A6H87jphhuj",
        "colab_type": "code",
        "colab": {
          "base_uri": "https://localhost:8080/",
          "height": 85
        },
        "outputId": "c5911ef1-d70b-4f8a-d704-6f4dbe0b81da"
      },
      "source": [
        "from sklearn.model_selection import train_test_split\n",
        "x_train,x_val,y_train,y_val=train_test_split(train_digits_sc,train_labels_cat,test_size=0.1,random_state=32)\n",
        "print(x_train.shape)\n",
        "print(x_val.shape)\n",
        "print(y_train.shape)\n",
        "print(y_val.shape)"
      ],
      "execution_count": 16,
      "outputs": [
        {
          "output_type": "stream",
          "text": [
            "(54000, 28, 28)\n",
            "(6000, 28, 28)\n",
            "(54000, 10)\n",
            "(6000, 10)\n"
          ],
          "name": "stdout"
        }
      ]
    },
    {
      "cell_type": "code",
      "metadata": {
        "id": "kRmra98Nhhr0",
        "colab_type": "code",
        "colab": {
          "base_uri": "https://localhost:8080/",
          "height": 357
        },
        "outputId": "752216b1-bb38-474e-c3b8-364a4d8b4c9f"
      },
      "source": [
        "from keras.models import Sequential\n",
        "from keras.layers import Dense,Flatten\n",
        "\n",
        "model = Sequential()\n",
        "# first layer we need to mention the input shape\n",
        "\n",
        "model.add(Flatten(input_shape=(28,28)))\n",
        "## 784 pixel values as input to this Dense. 128 Neurons in the layers\n",
        "model.add(Dense(128,activation='relu'))# 784 * 128+128\n",
        "model.add(Dense(128,activation='relu'))# \n",
        "model.add(Dense(64,activation='relu'))\n",
        "model.add(Dense(256,activation='relu'))\n",
        "#Final layer\n",
        "model.add(Dense(10,activation='softmax'))\n",
        "model.summary()"
      ],
      "execution_count": 17,
      "outputs": [
        {
          "output_type": "stream",
          "text": [
            "Model: \"sequential_1\"\n",
            "_________________________________________________________________\n",
            "Layer (type)                 Output Shape              Param #   \n",
            "=================================================================\n",
            "flatten_1 (Flatten)          (None, 784)               0         \n",
            "_________________________________________________________________\n",
            "dense_1 (Dense)              (None, 128)               100480    \n",
            "_________________________________________________________________\n",
            "dense_2 (Dense)              (None, 128)               16512     \n",
            "_________________________________________________________________\n",
            "dense_3 (Dense)              (None, 64)                8256      \n",
            "_________________________________________________________________\n",
            "dense_4 (Dense)              (None, 256)               16640     \n",
            "_________________________________________________________________\n",
            "dense_5 (Dense)              (None, 10)                2570      \n",
            "=================================================================\n",
            "Total params: 144,458\n",
            "Trainable params: 144,458\n",
            "Non-trainable params: 0\n",
            "_________________________________________________________________\n"
          ],
          "name": "stdout"
        }
      ]
    },
    {
      "cell_type": "code",
      "metadata": {
        "id": "03tvfymehhkO",
        "colab_type": "code",
        "colab": {}
      },
      "source": [
        "model.compile(optimizer='adam',loss=tf.keras.losses.CategoricalCrossentropy(),metrics=['accuracy'])"
      ],
      "execution_count": 18,
      "outputs": []
    },
    {
      "cell_type": "code",
      "metadata": {
        "id": "Ed_lD6oUhhXT",
        "colab_type": "code",
        "colab": {
          "base_uri": "https://localhost:8080/",
          "height": 204
        },
        "outputId": "ab6f4fdc-4a1d-4df7-d9e4-687dbed977fa"
      },
      "source": [
        "history=model.fit(x=x_train,y=y_train,epochs=5,validation_data=(x_val,y_val),batch_size=32)"
      ],
      "execution_count": 19,
      "outputs": [
        {
          "output_type": "stream",
          "text": [
            "Train on 54000 samples, validate on 6000 samples\n",
            "Epoch 1/5\n",
            "54000/54000 [==============================] - 6s 108us/step - loss: 0.2492 - accuracy: 0.9241 - val_loss: 0.1546 - val_accuracy: 0.9562\n",
            "Epoch 2/5\n",
            "54000/54000 [==============================] - 6s 102us/step - loss: 0.1123 - accuracy: 0.9665 - val_loss: 0.1193 - val_accuracy: 0.9655\n",
            "Epoch 3/5\n",
            "54000/54000 [==============================] - 6s 102us/step - loss: 0.0830 - accuracy: 0.9749 - val_loss: 0.1153 - val_accuracy: 0.9703\n",
            "Epoch 4/5\n",
            "54000/54000 [==============================] - 5s 101us/step - loss: 0.0653 - accuracy: 0.9798 - val_loss: 0.1193 - val_accuracy: 0.9692\n",
            "Epoch 5/5\n",
            "54000/54000 [==============================] - 5s 101us/step - loss: 0.0545 - accuracy: 0.9831 - val_loss: 0.1178 - val_accuracy: 0.9705\n"
          ],
          "name": "stdout"
        }
      ]
    },
    {
      "cell_type": "code",
      "metadata": {
        "id": "lTrahvGHiT_h",
        "colab_type": "code",
        "colab": {
          "base_uri": "https://localhost:8080/",
          "height": 51
        },
        "outputId": "400eed3e-17ea-4bba-f13a-e9389d1ddbbd"
      },
      "source": [
        "model.evaluate(test_digits_sc,test_labels_cat)"
      ],
      "execution_count": 20,
      "outputs": [
        {
          "output_type": "stream",
          "text": [
            "10000/10000 [==============================] - 0s 30us/step\n"
          ],
          "name": "stdout"
        },
        {
          "output_type": "execute_result",
          "data": {
            "text/plain": [
              "[0.10427583951104898, 0.972100019454956]"
            ]
          },
          "metadata": {
            "tags": []
          },
          "execution_count": 20
        }
      ]
    },
    {
      "cell_type": "code",
      "metadata": {
        "id": "h3hgbcquiVMV",
        "colab_type": "code",
        "colab": {
          "base_uri": "https://localhost:8080/",
          "height": 68
        },
        "outputId": "ccb41ea1-bd20-402f-c78d-1e6a60ed9dab"
      },
      "source": [
        "print(test_digits_sc.shape)\n",
        "print(test_digits_sc[0].shape)\n",
        "print(np.expand_dims(test_digits_sc[0],axis=0).shape)"
      ],
      "execution_count": 21,
      "outputs": [
        {
          "output_type": "stream",
          "text": [
            "(10000, 28, 28)\n",
            "(28, 28)\n",
            "(1, 28, 28)\n"
          ],
          "name": "stdout"
        }
      ]
    },
    {
      "cell_type": "code",
      "metadata": {
        "id": "b4You6Z-ideq",
        "colab_type": "code",
        "colab": {
          "base_uri": "https://localhost:8080/",
          "height": 68
        },
        "outputId": "a21d29e1-cc40-4834-86d1-c64d716b3464"
      },
      "source": [
        "model.predict(np.expand_dims(test_digits_sc[0],axis=0))"
      ],
      "execution_count": 22,
      "outputs": [
        {
          "output_type": "execute_result",
          "data": {
            "text/plain": [
              "array([[5.4371267e-08, 1.3049969e-05, 8.6766180e-05, 4.9905328e-05,\n",
              "        2.8698642e-07, 2.9520336e-07, 9.6322075e-11, 9.9980193e-01,\n",
              "        4.7005139e-07, 4.7237205e-05]], dtype=float32)"
            ]
          },
          "metadata": {
            "tags": []
          },
          "execution_count": 22
        }
      ]
    },
    {
      "cell_type": "code",
      "metadata": {
        "id": "YcJQurDbif96",
        "colab_type": "code",
        "colab": {
          "base_uri": "https://localhost:8080/",
          "height": 527
        },
        "outputId": "42f053a1-679f-4f9b-a0b5-42375ccd1c55"
      },
      "source": [
        "model.predict(test_digits_sc[:10])"
      ],
      "execution_count": 23,
      "outputs": [
        {
          "output_type": "execute_result",
          "data": {
            "text/plain": [
              "array([[5.43711636e-08, 1.30499311e-05, 8.67661802e-05, 4.99052767e-05,\n",
              "        2.86985852e-07, 2.95201971e-07, 9.63224361e-11, 9.99801934e-01,\n",
              "        4.70050082e-07, 4.72371139e-05],\n",
              "       [8.76859089e-12, 1.19079303e-07, 9.99999523e-01, 6.00567489e-08,\n",
              "        7.44016376e-11, 2.30114128e-09, 5.26734418e-13, 2.69429933e-07,\n",
              "        2.12737897e-10, 1.88213616e-12],\n",
              "       [1.17281115e-06, 9.99565184e-01, 1.96465971e-05, 1.17781765e-05,\n",
              "        5.13667146e-05, 1.16852025e-05, 6.44217516e-06, 9.99269614e-05,\n",
              "        2.22199305e-04, 1.06807720e-05],\n",
              "       [9.99967217e-01, 3.82839715e-09, 1.25459328e-05, 3.88910848e-07,\n",
              "        1.63662025e-06, 1.32029515e-06, 5.58082684e-06, 4.98311721e-08,\n",
              "        2.77149297e-07, 1.08867462e-05],\n",
              "       [8.31990837e-05, 1.17816862e-05, 1.16809527e-03, 4.09266841e-06,\n",
              "        9.94410455e-01, 1.27296416e-05, 9.81757112e-05, 9.45704742e-05,\n",
              "        4.03439080e-05, 4.07648552e-03],\n",
              "       [2.27331569e-07, 9.99612510e-01, 4.41203201e-06, 5.63991671e-06,\n",
              "        2.72710749e-05, 9.26877362e-07, 4.42963596e-07, 2.62886286e-04,\n",
              "        8.02541908e-05, 5.41374129e-06],\n",
              "       [3.86335341e-06, 2.69053771e-06, 2.65746581e-04, 3.39936975e-07,\n",
              "        9.98869479e-01, 5.52174106e-06, 1.00219091e-04, 2.14815955e-05,\n",
              "        1.60434749e-04, 5.70315809e-04],\n",
              "       [3.98512580e-04, 3.61503480e-05, 1.13843498e-03, 2.79434323e-02,\n",
              "        1.05416773e-04, 3.76325799e-03, 1.55584676e-05, 7.67879901e-05,\n",
              "        2.91620903e-02, 9.37360287e-01],\n",
              "       [5.03331285e-05, 2.06155119e-06, 1.99429469e-05, 6.18825288e-05,\n",
              "        1.47619694e-05, 9.66957092e-01, 3.23857702e-02, 3.49827047e-07,\n",
              "        2.95053906e-04, 2.12760075e-04],\n",
              "       [1.66737209e-05, 1.46285618e-06, 1.58984658e-05, 1.53721721e-05,\n",
              "        7.92752835e-04, 3.18198801e-07, 3.06733803e-08, 3.23524873e-05,\n",
              "        7.99497182e-04, 9.98325646e-01]], dtype=float32)"
            ]
          },
          "metadata": {
            "tags": []
          },
          "execution_count": 23
        }
      ]
    },
    {
      "cell_type": "code",
      "metadata": {
        "id": "AVZKCmN_if17",
        "colab_type": "code",
        "colab": {
          "base_uri": "https://localhost:8080/",
          "height": 34
        },
        "outputId": "6fbc1851-d83c-4c97-a7c6-005de3ab478b"
      },
      "source": [
        "model.predict_classes(np.expand_dims(test_digits_sc[0],axis=0))"
      ],
      "execution_count": 24,
      "outputs": [
        {
          "output_type": "execute_result",
          "data": {
            "text/plain": [
              "array([7])"
            ]
          },
          "metadata": {
            "tags": []
          },
          "execution_count": 24
        }
      ]
    },
    {
      "cell_type": "code",
      "metadata": {
        "id": "xX6OU26mifwA",
        "colab_type": "code",
        "colab": {
          "base_uri": "https://localhost:8080/",
          "height": 68
        },
        "outputId": "088b4e0a-0c07-49f5-d2c6-49089d3b1aa5"
      },
      "source": [
        "model.predict_proba(np.expand_dims(test_digits_sc[0],axis=0))"
      ],
      "execution_count": 25,
      "outputs": [
        {
          "output_type": "execute_result",
          "data": {
            "text/plain": [
              "array([[5.4371267e-08, 1.3049969e-05, 8.6766180e-05, 4.9905328e-05,\n",
              "        2.8698642e-07, 2.9520336e-07, 9.6322075e-11, 9.9980193e-01,\n",
              "        4.7005139e-07, 4.7237205e-05]], dtype=float32)"
            ]
          },
          "metadata": {
            "tags": []
          },
          "execution_count": 25
        }
      ]
    },
    {
      "cell_type": "code",
      "metadata": {
        "id": "hzNHXBNsifpC",
        "colab_type": "code",
        "colab": {
          "base_uri": "https://localhost:8080/",
          "height": 289
        },
        "outputId": "bbf003e4-4806-4012-a74a-291241b29192"
      },
      "source": [
        "history.history"
      ],
      "execution_count": 26,
      "outputs": [
        {
          "output_type": "execute_result",
          "data": {
            "text/plain": [
              "{'accuracy': [0.9240556, 0.96653706, 0.9749445, 0.97977775, 0.9831296],\n",
              " 'loss': [0.24923825980391767,\n",
              "  0.11233952633374267,\n",
              "  0.08300701267748244,\n",
              "  0.06532589496799779,\n",
              "  0.05446567139949615],\n",
              " 'val_accuracy': [0.956166684627533,\n",
              "  0.965499997138977,\n",
              "  0.9703333377838135,\n",
              "  0.9691666960716248,\n",
              "  0.9704999923706055],\n",
              " 'val_loss': [0.1545579556673765,\n",
              "  0.11926744146396716,\n",
              "  0.11533063688191275,\n",
              "  0.1193272042372264,\n",
              "  0.11775486341739694]}"
            ]
          },
          "metadata": {
            "tags": []
          },
          "execution_count": 26
        }
      ]
    },
    {
      "cell_type": "code",
      "metadata": {
        "id": "hi4M7-uvifi2",
        "colab_type": "code",
        "colab": {
          "base_uri": "https://localhost:8080/",
          "height": 282
        },
        "outputId": "ff3af9fe-23f0-4366-ea43-6ecdba05e44c"
      },
      "source": [
        "plt.plot(history.history['accuracy'])\n",
        "plt.plot(history.history['val_accuracy'])"
      ],
      "execution_count": 27,
      "outputs": [
        {
          "output_type": "execute_result",
          "data": {
            "text/plain": [
              "[<matplotlib.lines.Line2D at 0x7f03186c8588>]"
            ]
          },
          "metadata": {
            "tags": []
          },
          "execution_count": 27
        },
        {
          "output_type": "display_data",
          "data": {
            "image/png": "[encoded data removed]",
            "text/plain": [
              "<Figure size 432x288 with 1 Axes>"
            ]
          },
          "metadata": {
            "tags": [],
            "needs_background": "light"
          }
        }
      ]
    },
    {
      "cell_type": "code",
      "metadata": {
        "id": "RUB5Dk4zifP7",
        "colab_type": "code",
        "colab": {
          "base_uri": "https://localhost:8080/",
          "height": 357
        },
        "outputId": "05f82c43-2c4b-4fa3-a02f-bca5cd801f98"
      },
      "source": [
        "model1 = Sequential()\n",
        "# first layer we need to mention the input shape\n",
        "\n",
        "model1.add(Flatten(input_shape=(28,28)))\n",
        "## 784 pixel values as input to this Dense. 128 Neurons in the layers\n",
        "model1.add(Dense(128,activation='relu'))# 784 * 128+128\n",
        "model1.add(Dense(256,activation='relu'))# \n",
        "model1.add(Dense(64,activation='relu'))\n",
        "model1.add(Dense(256,activation='relu'))\n",
        "#Final layer\n",
        "model1.add(Dense(10,activation='sigmoid'))\n",
        "model1.summary()"
      ],
      "execution_count": 28,
      "outputs": [
        {
          "output_type": "stream",
          "text": [
            "Model: \"sequential_2\"\n",
            "_________________________________________________________________\n",
            "Layer (type)                 Output Shape              Param #   \n",
            "=================================================================\n",
            "flatten_2 (Flatten)          (None, 784)               0         \n",
            "_________________________________________________________________\n",
            "dense_6 (Dense)              (None, 128)               100480    \n",
            "_________________________________________________________________\n",
            "dense_7 (Dense)              (None, 256)               33024     \n",
            "_________________________________________________________________\n",
            "dense_8 (Dense)              (None, 64)                16448     \n",
            "_________________________________________________________________\n",
            "dense_9 (Dense)              (None, 256)               16640     \n",
            "_________________________________________________________________\n",
            "dense_10 (Dense)             (None, 10)                2570      \n",
            "=================================================================\n",
            "Total params: 169,162\n",
            "Trainable params: 169,162\n",
            "Non-trainable params: 0\n",
            "_________________________________________________________________\n"
          ],
          "name": "stdout"
        }
      ]
    },
    {
      "cell_type": "code",
      "metadata": {
        "id": "CiDxPZiEi_JQ",
        "colab_type": "code",
        "colab": {}
      },
      "source": [
        "model1.compile(optimizer='adam',loss=tf.keras.losses.CategoricalCrossentropy(),metrics=['accuracy'])"
      ],
      "execution_count": 29,
      "outputs": []
    },
    {
      "cell_type": "code",
      "metadata": {
        "id": "ETONKONTjFX8",
        "colab_type": "code",
        "colab": {
          "base_uri": "https://localhost:8080/",
          "height": 204
        },
        "outputId": "a8cd3c7b-fa2b-4568-d1e4-ba3170a3b8c1"
      },
      "source": [
        "history=model1.fit(x=x_train,y=y_train,epochs=5,validation_data=(x_val,y_val),batch_size=32)"
      ],
      "execution_count": 30,
      "outputs": [
        {
          "output_type": "stream",
          "text": [
            "Train on 54000 samples, validate on 6000 samples\n",
            "Epoch 1/5\n",
            "54000/54000 [==============================] - 6s 111us/step - loss: 0.2682 - accuracy: 0.9185 - val_loss: 0.1514 - val_accuracy: 0.9570\n",
            "Epoch 2/5\n",
            "54000/54000 [==============================] - 6s 109us/step - loss: 0.1133 - accuracy: 0.9659 - val_loss: 0.1182 - val_accuracy: 0.9685\n",
            "Epoch 3/5\n",
            "54000/54000 [==============================] - 6s 109us/step - loss: 0.0800 - accuracy: 0.9760 - val_loss: 0.1008 - val_accuracy: 0.9713\n",
            "Epoch 4/5\n",
            "54000/54000 [==============================] - 6s 110us/step - loss: 0.0638 - accuracy: 0.9800 - val_loss: 0.0927 - val_accuracy: 0.9735\n",
            "Epoch 5/5\n",
            "54000/54000 [==============================] - 6s 109us/step - loss: 0.0521 - accuracy: 0.9835 - val_loss: 0.1145 - val_accuracy: 0.9703\n"
          ],
          "name": "stdout"
        }
      ]
    },
    {
      "cell_type": "code",
      "metadata": {
        "id": "SFBPYOLSjFOq",
        "colab_type": "code",
        "colab": {
          "base_uri": "https://localhost:8080/",
          "height": 51
        },
        "outputId": "a73ee83b-ff8d-4507-e188-a7979c12141a"
      },
      "source": [
        "model1.evaluate(test_digits_sc,test_labels_cat)"
      ],
      "execution_count": 31,
      "outputs": [
        {
          "output_type": "stream",
          "text": [
            "10000/10000 [==============================] - 0s 30us/step\n"
          ],
          "name": "stdout"
        },
        {
          "output_type": "execute_result",
          "data": {
            "text/plain": [
              "[0.11036076119780773, 0.9695000052452087]"
            ]
          },
          "metadata": {
            "tags": []
          },
          "execution_count": 31
        }
      ]
    },
    {
      "cell_type": "code",
      "metadata": {
        "id": "JDEgD7tYjFD3",
        "colab_type": "code",
        "colab": {
          "base_uri": "https://localhost:8080/",
          "height": 68
        },
        "outputId": "0cd23346-ee58-4d32-e9a5-ea171b101a51"
      },
      "source": [
        "print(test_digits_sc.shape)\n",
        "print(test_digits_sc[0].shape)\n",
        "print(np.expand_dims(test_digits_sc[0],axis=0).shape)"
      ],
      "execution_count": 32,
      "outputs": [
        {
          "output_type": "stream",
          "text": [
            "(10000, 28, 28)\n",
            "(28, 28)\n",
            "(1, 28, 28)\n"
          ],
          "name": "stdout"
        }
      ]
    },
    {
      "cell_type": "code",
      "metadata": {
        "id": "CVd7l5UIjQQb",
        "colab_type": "code",
        "colab": {
          "base_uri": "https://localhost:8080/",
          "height": 68
        },
        "outputId": "b895ac56-83dd-4dda-eb85-e6235d2f837f"
      },
      "source": [
        "model.predict(np.expand_dims(test_digits_sc[0],axis=0))"
      ],
      "execution_count": 33,
      "outputs": [
        {
          "output_type": "execute_result",
          "data": {
            "text/plain": [
              "array([[5.4371267e-08, 1.3049969e-05, 8.6766180e-05, 4.9905328e-05,\n",
              "        2.8698642e-07, 2.9520336e-07, 9.6322075e-11, 9.9980193e-01,\n",
              "        4.7005139e-07, 4.7237205e-05]], dtype=float32)"
            ]
          },
          "metadata": {
            "tags": []
          },
          "execution_count": 33
        }
      ]
    },
    {
      "cell_type": "code",
      "metadata": {
        "id": "qrfyajqNjXFu",
        "colab_type": "code",
        "colab": {
          "base_uri": "https://localhost:8080/",
          "height": 527
        },
        "outputId": "99e54ed1-3f25-4f2c-d6e1-9be3afcc6907"
      },
      "source": [
        "model.predict(test_digits_sc[:10])"
      ],
      "execution_count": 34,
      "outputs": [
        {
          "output_type": "execute_result",
          "data": {
            "text/plain": [
              "array([[5.43711636e-08, 1.30499311e-05, 8.67661802e-05, 4.99052767e-05,\n",
              "        2.86985852e-07, 2.95201971e-07, 9.63224361e-11, 9.99801934e-01,\n",
              "        4.70050082e-07, 4.72371139e-05],\n",
              "       [8.76859089e-12, 1.19079303e-07, 9.99999523e-01, 6.00567489e-08,\n",
              "        7.44016376e-11, 2.30114128e-09, 5.26734418e-13, 2.69429933e-07,\n",
              "        2.12737897e-10, 1.88213616e-12],\n",
              "       [1.17281115e-06, 9.99565184e-01, 1.96465971e-05, 1.17781765e-05,\n",
              "        5.13667146e-05, 1.16852025e-05, 6.44217516e-06, 9.99269614e-05,\n",
              "        2.22199305e-04, 1.06807720e-05],\n",
              "       [9.99967217e-01, 3.82839715e-09, 1.25459328e-05, 3.88910848e-07,\n",
              "        1.63662025e-06, 1.32029515e-06, 5.58082684e-06, 4.98311721e-08,\n",
              "        2.77149297e-07, 1.08867462e-05],\n",
              "       [8.31990837e-05, 1.17816862e-05, 1.16809527e-03, 4.09266841e-06,\n",
              "        9.94410455e-01, 1.27296416e-05, 9.81757112e-05, 9.45704742e-05,\n",
              "        4.03439080e-05, 4.07648552e-03],\n",
              "       [2.27331569e-07, 9.99612510e-01, 4.41203201e-06, 5.63991671e-06,\n",
              "        2.72710749e-05, 9.26877362e-07, 4.42963596e-07, 2.62886286e-04,\n",
              "        8.02541908e-05, 5.41374129e-06],\n",
              "       [3.86335341e-06, 2.69053771e-06, 2.65746581e-04, 3.39936975e-07,\n",
              "        9.98869479e-01, 5.52174106e-06, 1.00219091e-04, 2.14815955e-05,\n",
              "        1.60434749e-04, 5.70315809e-04],\n",
              "       [3.98512580e-04, 3.61503480e-05, 1.13843498e-03, 2.79434323e-02,\n",
              "        1.05416773e-04, 3.76325799e-03, 1.55584676e-05, 7.67879901e-05,\n",
              "        2.91620903e-02, 9.37360287e-01],\n",
              "       [5.03331285e-05, 2.06155119e-06, 1.99429469e-05, 6.18825288e-05,\n",
              "        1.47619694e-05, 9.66957092e-01, 3.23857702e-02, 3.49827047e-07,\n",
              "        2.95053906e-04, 2.12760075e-04],\n",
              "       [1.66737209e-05, 1.46285618e-06, 1.58984658e-05, 1.53721721e-05,\n",
              "        7.92752835e-04, 3.18198801e-07, 3.06733803e-08, 3.23524873e-05,\n",
              "        7.99497182e-04, 9.98325646e-01]], dtype=float32)"
            ]
          },
          "metadata": {
            "tags": []
          },
          "execution_count": 34
        }
      ]
    },
    {
      "cell_type": "code",
      "metadata": {
        "id": "YzyyxbekjXBw",
        "colab_type": "code",
        "colab": {
          "base_uri": "https://localhost:8080/",
          "height": 34
        },
        "outputId": "29d36bd3-7eca-4e40-830c-066b13136384"
      },
      "source": [
        "model.predict_classes(np.expand_dims(test_digits_sc[0],axis=0))"
      ],
      "execution_count": 35,
      "outputs": [
        {
          "output_type": "execute_result",
          "data": {
            "text/plain": [
              "array([7])"
            ]
          },
          "metadata": {
            "tags": []
          },
          "execution_count": 35
        }
      ]
    },
    {
      "cell_type": "code",
      "metadata": {
        "id": "UbqTeEERjW_r",
        "colab_type": "code",
        "colab": {
          "base_uri": "https://localhost:8080/",
          "height": 68
        },
        "outputId": "49e4c354-b9ba-4af8-be58-3b7510f0d370"
      },
      "source": [
        "model.predict_proba(np.expand_dims(test_digits_sc[0],axis=0))"
      ],
      "execution_count": 36,
      "outputs": [
        {
          "output_type": "execute_result",
          "data": {
            "text/plain": [
              "array([[5.4371267e-08, 1.3049969e-05, 8.6766180e-05, 4.9905328e-05,\n",
              "        2.8698642e-07, 2.9520336e-07, 9.6322075e-11, 9.9980193e-01,\n",
              "        4.7005139e-07, 4.7237205e-05]], dtype=float32)"
            ]
          },
          "metadata": {
            "tags": []
          },
          "execution_count": 36
        }
      ]
    },
    {
      "cell_type": "code",
      "metadata": {
        "id": "IBNW7XUSjiIC",
        "colab_type": "code",
        "colab": {
          "base_uri": "https://localhost:8080/",
          "height": 289
        },
        "outputId": "844ba189-9fe5-4afe-83c3-db1dbeb734ed"
      },
      "source": [
        "history.history"
      ],
      "execution_count": 37,
      "outputs": [
        {
          "output_type": "execute_result",
          "data": {
            "text/plain": [
              "{'accuracy': [0.91848147, 0.9658889, 0.976037, 0.98003703, 0.983537],\n",
              " 'loss': [0.2682286804870323,\n",
              "  0.11327024337511371,\n",
              "  0.07996222927828354,\n",
              "  0.06384187343745941,\n",
              "  0.05210273787287857],\n",
              " 'val_accuracy': [0.9570000171661377,\n",
              "  0.968500018119812,\n",
              "  0.9713333249092102,\n",
              "  0.9735000133514404,\n",
              "  0.9703333377838135],\n",
              " 'val_loss': [0.1514195862809817,\n",
              "  0.11823102414111296,\n",
              "  0.10078862232714891,\n",
              "  0.09272156656036774,\n",
              "  0.11449944407244524]}"
            ]
          },
          "metadata": {
            "tags": []
          },
          "execution_count": 37
        }
      ]
    },
    {
      "cell_type": "code",
      "metadata": {
        "id": "9l8dcFa7jnLM",
        "colab_type": "code",
        "colab": {
          "base_uri": "https://localhost:8080/",
          "height": 282
        },
        "outputId": "7424b715-4c94-4953-e939-4ff78579008e"
      },
      "source": [
        "plt.plot(history.history['accuracy'])\n",
        "plt.plot(history.history['val_accuracy'])"
      ],
      "execution_count": 38,
      "outputs": [
        {
          "output_type": "execute_result",
          "data": {
            "text/plain": [
              "[<matplotlib.lines.Line2D at 0x7f0318573518>]"
            ]
          },
          "metadata": {
            "tags": []
          },
          "execution_count": 38
        },
        {
          "output_type": "display_data",
          "data": {
            "image/png": "[encoded data removed]",
            "text/plain": [
              "<Figure size 432x288 with 1 Axes>"
            ]
          },
          "metadata": {
            "tags": [],
            "needs_background": "light"
          }
        }
      ]
    }
  ]
}