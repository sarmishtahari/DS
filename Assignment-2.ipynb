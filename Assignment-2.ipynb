{
 "cells": [
  {
   "cell_type": "markdown",
   "metadata": {},
   "source": [
    "## Question-1:\n",
    "### Accept a string from the user and count no.of vowels,consonants and special character"
   ]
  },
  {
   "cell_type": "code",
   "execution_count": 3,
   "metadata": {},
   "outputs": [
    {
     "name": "stdout",
     "output_type": "stream",
     "text": [
      "Vowels: 8\n",
      "Consonant: 11\n",
      "Digit: 1\n",
      "Special Character: 6\n"
     ]
    }
   ],
   "source": [
    "def countCharacterType(str): \n",
    "    vowels = 0\n",
    "    consonant = 0\n",
    "    specialChar = 0\n",
    "    digit = 0     \n",
    "    for i in range(0, len(str)):           \n",
    "        ch = str[i]    \n",
    "        if ( (ch >= 'a' and ch <= 'z') or \n",
    "             (ch >= 'A' and ch <= 'Z') ):  \n",
    "            ch = ch.lower()   \n",
    "            if (ch == 'a' or ch == 'e' or ch == 'i' \n",
    "                        or ch == 'o' or ch == 'u'): \n",
    "                vowels += 1\n",
    "            else: \n",
    "                consonant += 1          \n",
    "        elif (ch >= '0' and ch <= '9'): \n",
    "            digit += 1\n",
    "        else: \n",
    "            specialChar += 1      \n",
    "    print(\"Vowels:\", vowels) \n",
    "    print(\"Consonant:\", consonant)  \n",
    "    print(\"Digit:\", digit)  \n",
    "    print(\"Special Character:\", specialChar) \n",
    "str = \"Sun rises in the east @5AM\"\n",
    "countCharacterType(str)  \n",
    "  \n"
   ]
  },
  {
   "cell_type": "markdown",
   "metadata": {},
   "source": [
    "## Question-2:\n",
    "### Count the no.of pairs of a in the given string(Infosys InfyTQ)\n",
    "    string →  \"abbaaccbbaaa\"\n",
    "    output →  2\n"
   ]
  },
  {
   "cell_type": "code",
   "execution_count": 12,
   "metadata": {},
   "outputs": [
    {
     "name": "stdout",
     "output_type": "stream",
     "text": [
      "2\n"
     ]
    }
   ],
   "source": [
    "str = (\"abbaaccbbaaa\") \n",
    "count =0\n",
    "ch1 =str[0]\n",
    "for i in range(1, len(str)):\n",
    "    ch2 = str[i]\n",
    "    if (ch1=='a' and ch1 == ch2 and ch1 != ch3):\n",
    "        count +=1\n",
    "    ch1 =str[i]\n",
    "    ch3=str[i-1]\n",
    "print(count)"
   ]
  },
  {
   "cell_type": "markdown",
   "metadata": {},
   "source": [
    "## Question-3:\n",
    "### Count of Paranthesis pair\n",
    "    Test case1:\n",
    "        string →  \"((((()()()))))()\"\n",
    "        output →  8\n",
    "    Test case2:\n",
    "        string →  \"((()))()\"\n",
    "        Output →  4\n"
   ]
  },
  {
   "cell_type": "code",
   "execution_count": 38,
   "metadata": {},
   "outputs": [
    {
     "name": "stdout",
     "output_type": "stream",
     "text": [
      "8\n",
      "4\n"
     ]
    }
   ],
   "source": [
    "def count(str):\n",
    "    startCount = 0\n",
    "    endCount = 0\n",
    "    start = \"(\"\n",
    "    end =\")\"\n",
    "    for i in range(0,len(str)):\n",
    "        ch=str[i]\n",
    "        if (ch==start):\n",
    "            startCount +=1\n",
    "        else:\n",
    "            endCount +=1\n",
    "    if(startCount<endCount):\n",
    "        return startCount\n",
    "    else:\n",
    "        return endCount\n",
    "\n",
    "str1=\"((((()()()))))()\"\n",
    "str2=\"((()))()\"\n",
    "print(count(str1))\n",
    "print(count(str2))"
   ]
  },
  {
   "cell_type": "markdown",
   "metadata": {},
   "source": [
    "## Question-4:\n",
    "### Read the input as two limits and Print the output as Palindrome count between the two limits\n",
    "    Example #1; Input : 1 10 Output : 9\n",
    "    Example #2: Input : 1 100 Output : 18\n"
   ]
  },
  {
   "cell_type": "code",
   "execution_count": 3,
   "metadata": {},
   "outputs": [
    {
     "name": "stdout",
     "output_type": "stream",
     "text": [
      "9\n",
      "18\n"
     ]
    }
   ],
   "source": [
    "def isPalindrome(n: int) -> bool: \n",
    "    rev = 0\n",
    "    i = n \n",
    "    while i > 0: \n",
    "        rev = rev * 10 + i % 10\n",
    "        i //= 10 \n",
    "    return (n == rev) \n",
    "\n",
    "def countPal(minn: int, maxx: int) -> int: \n",
    "    count = 0\n",
    "    for i in range(minn, maxx + 1): \n",
    "        if isPalindrome(i): \n",
    "            count +=1\n",
    "    return count\n",
    "\n",
    "if __name__ == \"__main__\": \n",
    "    print(countPal(1, 10))\n",
    "    print(countPal(1,100))"
   ]
  },
  {
   "cell_type": "markdown",
   "metadata": {},
   "source": [
    "## Question-5:\n",
    "### Accept a number as an input and check whether the given number is palindrome or not\n",
    "    if it is a palindrome number print the number on the screen\n",
    "    if it is not a palindrome number reverse that number and add it to previous number repeat this until will get a palindrome      number and print that palindrome number on the screen\n",
    "\n",
    " input: 127\n",
    " output: 848\n"
   ]
  },
  {
   "cell_type": "code",
   "execution_count": 2,
   "metadata": {},
   "outputs": [
    {
     "name": "stdout",
     "output_type": "stream",
     "text": [
      "Please Enter any Number: 127\n",
      "848\n"
     ]
    }
   ],
   "source": [
    "def isPalindrome(n): \n",
    "    divisor = 1\n",
    "    while (n / divisor >= 10): \n",
    "        divisor *= 10\n",
    "    while (n != 0): \n",
    "        leading = n // divisor  \n",
    "        trailing = n % 10\n",
    "        if (leading != trailing):  \n",
    "            return False \n",
    "        n = (n % divisor)//10 \n",
    "        divisor = divisor/100          \n",
    "    return True\n",
    "\n",
    "def revNum(n):\n",
    "    Reverse = 0    \n",
    "    while(n > 0):    \n",
    "        Reminder = n %10    \n",
    "        Reverse = (Reverse *10) + Reminder    \n",
    "        n = n //10         \n",
    "    return Reverse\n",
    "\n",
    "\n",
    "Number = int(input(\"Please Enter any Number: \"))    \n",
    "Tmp = 0   \n",
    "if(isPalindrome(Number)): \n",
    "    print('Yes, it is palindrome') \n",
    "else: \n",
    "    while True:\n",
    "        Tmp = (Number)+revNum(Number)\n",
    "        if(isPalindrome(Tmp)): \n",
    "            break;\n",
    "    print(Tmp)  \n",
    "\n",
    "\n"
   ]
  },
  {
   "cell_type": "markdown",
   "metadata": {},
   "source": [
    "## Question 6:\n",
    "    If the character in the string is a vowel, it has to print the consecutive consonant...\n",
    "    If the character in the string is a consonant, it has to print the consecutive vowel\n",
    "    input:orange  →   output : puboif\n"
   ]
  },
  {
   "cell_type": "code",
   "execution_count": 4,
   "metadata": {},
   "outputs": [
    {
     "name": "stdout",
     "output_type": "stream",
     "text": [
      "p u b o i f "
     ]
    }
   ],
   "source": [
    "def replaceCharacterType(str): \n",
    "    vowel = False\n",
    "    consonant = False\n",
    "    for i in range(0, len(str)):           \n",
    "        ch = str[i]    \n",
    "        if ( (ch >= 'a' and ch <= 'z') or \n",
    "             (ch >= 'A' and ch <= 'Z') ):  \n",
    "            if(isVowel(ch)):\n",
    "                vowel = True\n",
    "            else:\n",
    "                consonant = True\n",
    "            if (vowel == True): \n",
    "                print(chr(ord(ch) + 1), end =\" \")\n",
    "                vowel = False\n",
    "            else: \n",
    "                i=1\n",
    "                while True:\n",
    "                    tmp = chr(ord(ch)+i)\n",
    "                    if (isVowel(tmp)):\n",
    "                        print(tmp, end =\" \")\n",
    "                        break\n",
    "                    else:\n",
    "                        i +=1\n",
    "\n",
    "def isVowel(ch):\n",
    "    ch = ch.lower()   \n",
    "    if (ch == 'a' or ch == 'e' or ch == 'i' \n",
    "            or ch == 'o' or ch == 'u'):\n",
    "                return True\n",
    "    else:\n",
    "        return False\n",
    "str = \"orange\"\n",
    "replaceCharacterType(str)  "
   ]
  },
  {
   "cell_type": "markdown",
   "metadata": {},
   "source": [
    "## Question-7:\n",
    "### Accept input as a string and display sum of digits as the output \n",
    "    input:Appli123cation456 \n",
    "    Output: 21\n"
   ]
  },
  {
   "cell_type": "code",
   "execution_count": 2,
   "metadata": {},
   "outputs": [
    {
     "name": "stdout",
     "output_type": "stream",
     "text": [
      "21\n"
     ]
    }
   ],
   "source": [
    "def sum_digits_string(str1):\n",
    "    sum_digit = 0\n",
    "    for x in str1:\n",
    "        if x.isdigit() == True:\n",
    "            z = int(x)\n",
    "            sum_digit = sum_digit + z\n",
    "\n",
    "    return sum_digit\n",
    "     \n",
    "print(sum_digits_string(\"Appli123cation456\"))\n"
   ]
  },
  {
   "cell_type": "markdown",
   "metadata": {},
   "source": [
    "## Question-8:\n",
    "### Write a program to prompt for a score between 0.0 and 1.0. If the score is out of range, print an error. If the score is between 0.0 and 1.0, print a grade using the following table:\n",
    "    Score Grade\n",
    "    >= 0.9 A\n",
    "    >= 0.8 B\n",
    "    >= 0.7 C\n",
    "    >= 0.6 D\n",
    "    < 0.6 F\n",
    "    If the user enters a value out of range, print a suitable error message and exit. For the test, enter a score of 0.85\n"
   ]
  },
  {
   "cell_type": "code",
   "execution_count": 2,
   "metadata": {},
   "outputs": [
    {
     "name": "stdout",
     "output_type": "stream",
     "text": [
      "Enter score between 0.0 and 1.0: 0.85\n",
      "B\n"
     ]
    }
   ],
   "source": [
    "score = float(input(\"Enter score between 0.0 and 1.0: \"))\n",
    "if score>1.0 or score<0.0:\n",
    "    print(\"error\")\n",
    "elif score>=0.9:\n",
    "    print ('A')\n",
    "elif score>=0.8:\n",
    "    print ('B')\n",
    "elif score>=0.7:\n",
    "    print ('C')\n",
    "elif score>=0.6:\n",
    "    print ('D')\n",
    "else :\n",
    "    print ('F')"
   ]
  },
  {
   "cell_type": "markdown",
   "metadata": {},
   "source": [
    "## Question-9:\n",
    "###  Write a Python program which iterates the integers from 1 to 50. For multiples of three print \"Fizz\" instead of the number and for the multiples of five print \"Buzz\". For numbers which are multiples of both three and five print \"FizzBuzz\".\n",
    "    Sample Output :\n",
    "    fizzbuzz\n",
    "    1\n",
    "    2\n",
    "    fizz\n",
    "    4\n",
    "    buzz\n"
   ]
  },
  {
   "cell_type": "code",
   "execution_count": 23,
   "metadata": {},
   "outputs": [
    {
     "name": "stdout",
     "output_type": "stream",
     "text": [
      "fizzbuzz\n",
      "1\n",
      "2\n",
      "fizz\n",
      "4\n",
      "buzz\n",
      "fizz\n",
      "7\n",
      "8\n",
      "fizz\n",
      "buzz\n",
      "11\n",
      "fizz\n",
      "13\n",
      "14\n",
      "fizzbuzz\n",
      "16\n",
      "17\n",
      "fizz\n",
      "19\n",
      "buzz\n",
      "fizz\n",
      "22\n",
      "23\n",
      "fizz\n",
      "buzz\n",
      "26\n",
      "fizz\n",
      "28\n",
      "29\n",
      "fizzbuzz\n",
      "31\n",
      "32\n",
      "fizz\n",
      "34\n",
      "buzz\n",
      "fizz\n",
      "37\n",
      "38\n",
      "fizz\n",
      "buzz\n",
      "41\n",
      "fizz\n",
      "43\n",
      "44\n",
      "fizzbuzz\n",
      "46\n",
      "47\n",
      "fizz\n",
      "49\n",
      "buzz\n"
     ]
    }
   ],
   "source": [
    "for fizzbuzz in range(51):\n",
    "    if fizzbuzz % 3 == 0 and fizzbuzz % 5 == 0:\n",
    "        print(\"fizzbuzz\")\n",
    "        continue\n",
    "    elif fizzbuzz % 3 == 0:\n",
    "        print(\"fizz\")\n",
    "        continue\n",
    "    elif fizzbuzz % 5 == 0:\n",
    "        print(\"buzz\")\n",
    "        continue\n",
    "    print(fizzbuzz)"
   ]
  },
  {
   "cell_type": "markdown",
   "metadata": {},
   "source": [
    "## Question-10:\n",
    "### Write a Python program to find the median of three values.\n",
    "    Expected Output:\n",
    "    Input first number: 26                                            \n",
    "    Input second number: 15                                                \n",
    "    Input third number: 29                                                  \n",
    "    The median is 26\n"
   ]
  },
  {
   "cell_type": "code",
   "execution_count": 21,
   "metadata": {},
   "outputs": [
    {
     "name": "stdout",
     "output_type": "stream",
     "text": [
      "Input first number: 26\n",
      "Input second number: 15\n",
      "Input third number: 29\n",
      "The median is  26\n"
     ]
    }
   ],
   "source": [
    "a = int(input(\"Input first number: \"))\n",
    "b = int(input(\"Input second number: \"))\n",
    "c = int(input(\"Input third number: \"))\n",
    "if a > b:\n",
    "    if a < c:\n",
    "        median = a\n",
    "    elif b > c:\n",
    "        median = b\n",
    "    else:\n",
    "        median = c\n",
    "else:\n",
    "    if a > c:\n",
    "        median = a\n",
    "    elif b < c:\n",
    "        median = b\n",
    "    else:\n",
    "        median = c\n",
    "\n",
    "print(\"The median is \", median)"
   ]
  }
 ],
 "metadata": {
  "kernelspec": {
   "display_name": "Python 3",
   "language": "python",
   "name": "python3"
  },
  "language_info": {
   "codemirror_mode": {
    "name": "ipython",
    "version": 3
   },
   "file_extension": ".py",
   "mimetype": "text/x-python",
   "name": "python",
   "nbconvert_exporter": "python",
   "pygments_lexer": "ipython3",
   "version": "3.7.3"
  }
 },
 "nbformat": 4,
 "nbformat_minor": 2
}
