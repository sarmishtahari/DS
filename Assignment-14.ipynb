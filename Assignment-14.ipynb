{
 "cells": [
  {
   "cell_type": "markdown",
   "metadata": {},
   "source": [
    "# CSE-221710309053-Hari Sarmishta"
   ]
  },
  {
   "cell_type": "markdown",
   "metadata": {},
   "source": [
    "## Question-1: https://www.codechef.com/problems/RECNDSTR\n",
    "### Sample Input:\n",
    "    4\n",
    "    a\n",
    "    ab\n",
    "    abcd\n",
    "    aaaaa\n",
    "### Sample Output:\n",
    "    YES\n",
    "    YES\n",
    "    NO\n",
    "    YES"
   ]
  },
  {
   "cell_type": "code",
   "execution_count": 1,
   "metadata": {},
   "outputs": [
    {
     "name": "stdout",
     "output_type": "stream",
     "text": [
      "4\n",
      "a\n",
      "ab\n",
      "abcd\n",
      "aaaaa\n",
      "Yes\n",
      "Yes\n",
      "No\n",
      "Yes\n"
     ]
    }
   ],
   "source": [
    "def L(x):return x[1:]+x[0]\n",
    "def R(x):return x[-1]+x[0:len(x)-1]\n",
    "n = int(input())#4\n",
    "list1 = [input()for i in range(n)]\n",
    "for x in list1:\n",
    "    print(\"Yes\") if L(x) == R(x) else print(\"No\")"
   ]
  },
  {
   "cell_type": "markdown",
   "metadata": {},
   "source": [
    "## Question 2:https://www.hackerrank.com/challenges/beautiful-days-at-the-movies/problem\n",
    "### Sample Input:\n",
    "    20 23 6\n",
    "### Sample Output:\n",
    "    2"
   ]
  },
  {
   "cell_type": "code",
   "execution_count": 2,
   "metadata": {},
   "outputs": [
    {
     "name": "stdout",
     "output_type": "stream",
     "text": [
      "20 23 6\n",
      "2\n"
     ]
    }
   ],
   "source": [
    "a, b, k = map(int, input().split())\n",
    "ans = 0\n",
    "for i in range(a, b+1):\n",
    "    ans = ans + abs(not (i - int(str(i)[::-1]))%k)\n",
    "print(ans)"
   ]
  },
  {
   "cell_type": "markdown",
   "metadata": {},
   "source": [
    "## Question 3: https://www.hackerrank.com/challenges/birthday-cake-candles/problem\n",
    "### Sample Input 0\n",
    "    4\n",
    "    3 2 1 3\n",
    "### Sample Output 0\n",
    "    2"
   ]
  },
  {
   "cell_type": "code",
   "execution_count": 7,
   "metadata": {},
   "outputs": [
    {
     "name": "stdout",
     "output_type": "stream",
     "text": [
      "4\n",
      "3 2 1 3\n",
      "2\n"
     ]
    }
   ],
   "source": [
    "n = input()\n",
    "arr = list(map(int,input().split()))\n",
    "print (arr.count(max(arr)))"
   ]
  },
  {
   "cell_type": "markdown",
   "metadata": {},
   "source": [
    "## Question 4:(InfyTQ)\n",
    "### Consider a non-empty array inarr containing non-zero positive single digit integers separated by “,” (comma).Print a string based on the below logic:\n",
    "    From all possible unique three digit number combinations with the elements of inarr\n",
    "    Identify the maximum number maxnum among the three digit combinations formed.\n",
    "    Print the maxnum followed by the total number of unique digit combinations formed,separating them with a “,” (comma)\n",
    "    Assumption: inarr will contain at least 3 elements\n",
    "    Note : An element present at a particular index should not be considered more than once while forming a combination.\n",
    "    Input format:\n",
    "        Read the array inarr from the standard input stream\n",
    "    Output format:\n",
    "        Print the output to the standard output stream\n",
    "### Sample Input : 1,2,1\n",
    "### Sample Output: 211,3\n",
    "### Sample Input:1,2,1,4\n",
    "### Sample output:4211,12\n"
   ]
  },
  {
   "cell_type": "code",
   "execution_count": 14,
   "metadata": {},
   "outputs": [
    {
     "name": "stdout",
     "output_type": "stream",
     "text": [
      "1,2,1\n",
      "211,3\n"
     ]
    }
   ],
   "source": [
    "import itertools as it\n",
    "arr=list(map(str,input().split(',')))\n",
    "perm = it.permutations(arr, len(arr))\n",
    "x = list(set(perm))               \n",
    "l = []\n",
    "for i in x:                          \n",
    "    perm = ''.join(i)                   \n",
    "    l.append(int(perm))\n",
    "l.sort()\n",
    "print(str(l[-1])+','+str(len(l)))"
   ]
  },
  {
   "cell_type": "markdown",
   "metadata": {},
   "source": [
    "## Question-5:\n",
    "### For a given positive number num,identify the palindrome formed by performing the following operations\n",
    "    Add num and its reverse\n",
    "    Check whether the sum is palindrome or not.If not,add the sum and its reverse and repeat the process until a palindrome is obtained.\n",
    "    Input format : Read num from the standard input stream\n",
    "    Output format: print the palindrome calculated to the standard output stream\n",
    "\n",
    "## Sample input : 124\n",
    "## Sample Output : 545\n",
    "\n",
    "## Sample input:195\n",
    "## Sample output: 9339 \n"
   ]
  },
  {
   "cell_type": "code",
   "execution_count": 12,
   "metadata": {},
   "outputs": [
    {
     "name": "stdout",
     "output_type": "stream",
     "text": [
      "545\n",
      "9339\n"
     ]
    }
   ],
   "source": [
    "def rev_number(n):\n",
    "  s = 0\n",
    "  while True:\n",
    "    k = str(n)\n",
    "    if k == k[::-1]:\n",
    "      break\n",
    "    else:\n",
    "      m = int(k[::-1])\n",
    "      n += m\n",
    "      s += 1\n",
    "  return n \n",
    "\n",
    "print(rev_number(124))\n",
    "print(rev_number(195))"
   ]
  },
  {
   "cell_type": "markdown",
   "metadata": {},
   "source": [
    "## Question-6:https://www.codechef.com/problems/SLAEL\n",
    "### Sample Input:\n",
    "    2\n",
    "    5 3\n",
    "    2 4 2 4 2\n",
    "    8 5\n",
    "    9 3 5 7 8 11 17 2\n",
    "### Sample Output:\n",
    "    5\n",
    "    3"
   ]
  },
  {
   "cell_type": "code",
   "execution_count": 13,
   "metadata": {},
   "outputs": [
    {
     "name": "stdout",
     "output_type": "stream",
     "text": [
      "2\n",
      "5 3\n",
      "2 4 2 4 2\n",
      "5\n",
      "8 5\n",
      "9 3 5 7 8 11 17 2\n",
      "3\n"
     ]
    }
   ],
   "source": [
    "for i in range(int(input())):\n",
    "    n,k = map(int,input().split())\n",
    "    a = list(map(int,input().split()))\n",
    "    c,x,i1,i2,b = 0,0,0,0,list()\n",
    "    for j in range(n):\n",
    "        c += 1\n",
    "        if a[j] > k :\n",
    "            x += 1\n",
    "            if x == 1 :i1 = j\n",
    "            else:\n",
    "                if a[j] == a[i1]:x -= 1\n",
    "                else:i2 = j\n",
    "        if x == 2 :\n",
    "            x = 1\n",
    "            b.append(c-1)\n",
    "            c = i2-i1\n",
    "            i1 = i2\n",
    "            i2 = 0\n",
    "        if j == n-1 and b == [ ]:b.append(n)\n",
    "    print(max(b))"
   ]
  }
 ],
 "metadata": {
  "kernelspec": {
   "display_name": "Python 3",
   "language": "python",
   "name": "python3"
  },
  "language_info": {
   "codemirror_mode": {
    "name": "ipython",
    "version": 3
   },
   "file_extension": ".py",
   "mimetype": "text/x-python",
   "name": "python",
   "nbconvert_exporter": "python",
   "pygments_lexer": "ipython3",
   "version": "3.7.3"
  }
 },
 "nbformat": 4,
 "nbformat_minor": 2
}
