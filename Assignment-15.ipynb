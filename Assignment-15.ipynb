{
 "cells": [
  {
   "cell_type": "markdown",
   "metadata": {},
   "source": [
    "# CSE-221710309053-Hari Sarmishta"
   ]
  },
  {
   "cell_type": "markdown",
   "metadata": {},
   "source": [
    "## Question 7:\n",
    "### Input string : \"xyz:750,abc:265,qwerty:195\"\n",
    "### Output string : abc\n",
    "    For digits:\n",
    "    1. find the reverse of the number and add it to the original number\n",
    "    2. if that sum is not palindrome,again add its reverse to that sum\n",
    "    3. Find the palindrome numbers for each number in the string by repeating the above step\n",
    "    4. Find the maximum palindrome number among all and its original number\n",
    "    5. And return the alphabetic code of that palindrome number as output\n"
   ]
  },
  {
   "cell_type": "code",
   "execution_count": 1,
   "metadata": {},
   "outputs": [
    {
     "name": "stdout",
     "output_type": "stream",
     "text": [
      "xyz:750,abc:265,qwerty:195\n"
     ]
    },
    {
     "data": {
      "text/plain": [
       "'abc'"
      ]
     },
     "execution_count": 1,
     "metadata": {},
     "output_type": "execute_result"
    }
   ],
   "source": [
    "#xyz:750,abc:265,qwerty:195\n",
    "s = input()\n",
    "list1 = s.split(\",\")\n",
    "list2 = [i.split(\":\")[1]for i in list1]\n",
    "list3 = []\n",
    "for num in list2: #num='750'\n",
    "    n = int(num)#n=750\n",
    "    rev = num[::-1]#rev=57\n",
    "    while str(n)!= rev:\n",
    "        n+=int(rev)\n",
    "        rev = str(n)[::-1]\n",
    "    list3.append(n)\n",
    "list1[list3.index(max(list3))].split(\":\")[0]"
   ]
  },
  {
   "cell_type": "markdown",
   "metadata": {},
   "source": [
    "## Question 8:\n",
    "### The groups_per_user function receives a dictionary.which contains group names with the list of users.Users can belong to multiple groups.Return a dictionary with the users as keys and a list of their groups as values.\n",
    "### Input : {\"local\":[\"admin\",\"userA\"],\"public\":[\"admin\",\"userB\"],\"administrator\":[\"admin\"]}\n",
    "### Output :\n",
    "     {'admin': ['local', 'public', 'administrator'],\n",
    "     'userA': ['local'],\n",
    "     'userB': ['public']}\n"
   ]
  },
  {
   "cell_type": "code",
   "execution_count": 2,
   "metadata": {},
   "outputs": [
    {
     "name": "stdout",
     "output_type": "stream",
     "text": [
      "{'admin': ['local', 'public', 'administrator'], 'userA': ['local'], 'userB': ['public']}\n"
     ]
    }
   ],
   "source": [
    "def groups_per_user(group_dictionary):\n",
    "    user_groups = {}\n",
    "    for group,users in group_dictionary.items():\n",
    "        for user in users:\n",
    "            user_groups[user] = user_groups.get(user,[]) + [group]\n",
    "    return(user_groups)\n",
    "\n",
    "print(groups_per_user({\"local\": [\"admin\", \"userA\"], \n",
    "                       \"public\":[\"admin\", \"userB\"],\n",
    "                       \"administrator\": [\"admin\"] }))\n"
   ]
  },
  {
   "cell_type": "markdown",
   "metadata": {},
   "source": [
    "## Question 9:\n",
    "### Input : london 40000 12,chicago 60000 20,munich 50000 15,paris 70000 5\n",
    "### Output : paris munich\n",
    "\n",
    "    City     population   no.of hospitals\n",
    "\n",
    "    London\t    40000\t\t12\n",
    "\n",
    "    Chicago \t60000 \t\t20\n",
    "\n",
    "    Munich \t    50000 \t\t15\n",
    "\n",
    "    Paris \t\t70000 \t\t5"
   ]
  },
  {
   "cell_type": "code",
   "execution_count": 1,
   "metadata": {},
   "outputs": [
    {
     "name": "stdout",
     "output_type": "stream",
     "text": [
      " london 40000 12,chicago 60000 20,munich 50000 15,paris 70000 5\n",
      "[' london 40000 12', 'chicago 60000 20', 'munich 50000 15', 'paris 70000 5']\n",
      "paris munich "
     ]
    }
   ],
   "source": [
    "s=input()\n",
    "s1=s.split(',')\n",
    "print(s1)\n",
    "a={}\n",
    "b={}\n",
    "al=[]\n",
    "bl=[]\n",
    "for i in s1:\n",
    "    a1=list(i.split())\n",
    "    a[a1[0]]=int(a1[1])\n",
    "    b[a1[0]]=int(a1[2])\n",
    "a1 = sorted(a.items(), key=lambda x: x[1],reverse=True)\n",
    "b1 = sorted(b.items(), key=lambda x: x[1])\n",
    "for i in a1:\n",
    "    al.append(i[0])\n",
    "for i in b1:\n",
    "    bl.append(i[0])\n",
    "for i in range(0,len(a1)):\n",
    "    if(al[i]==bl[i]):\n",
    "        print(al[i],end=\" \")"
   ]
  },
  {
   "cell_type": "markdown",
   "metadata": {},
   "source": [
    "## Question 10:\n",
    "### Jug Filling Problem\n",
    "### Problem statement: \n",
    "    “Given two empty jugs with 3 and 5 liter capacities and a full jug with 8 liters,find a sequence of pours leaving\n",
    "    four liters in the two largest jugs.”\n"
   ]
  },
  {
   "cell_type": "code",
   "execution_count": 2,
   "metadata": {},
   "outputs": [
    {
     "name": "stdout",
     "output_type": "stream",
     "text": [
      "[(8, 0, 0), (3, 5, 0), (0, 5, 3), (5, 0, 3), (5, 3, 0), (2, 3, 3), (2, 5, 1), (7, 0, 1), (7, 1, 0), (4, 1, 3), (4, 4, 0)]\n",
      "11\n"
     ]
    }
   ],
   "source": [
    "capacity = (8,5,3)\n",
    "x = capacity[0]\n",
    "y = capacity[1]\n",
    "z = capacity[2]\n",
    "memory = {}\n",
    "ans = []\n",
    "\n",
    "def get_all_states(state):\n",
    "  a = state[0]\n",
    "  b = state[1]\n",
    "  c = state[2]\n",
    "\n",
    "  if(a==4 and b==4):\n",
    "      ans.append(state)\n",
    "      return True\n",
    "\n",
    "  if((a,b,c) in memory):\n",
    "      return False\n",
    "\n",
    "  memory[(a,b,c)] = 1\n",
    "  if(a>0):\n",
    "      if(a+b<=y):\n",
    "          if( get_all_states((0,a+b,c)) ):\n",
    "              ans.append(state)\n",
    "              return True\n",
    "      else:\n",
    "          if( get_all_states((a-(y-b), y, c)) ):\n",
    "              ans.append(state)\n",
    "              return True\n",
    "      if(a+c<=z):\n",
    "          if( get_all_states((0,b,a+c)) ):\n",
    "              ans.append(state)\n",
    "              return True\n",
    "      else:\n",
    "          if( get_all_states((a-(z-c), b, z)) ):\n",
    "              ans.append(state)\n",
    "              return True\n",
    "  if(b>0):\n",
    "      if(a+b<=x):\n",
    "          if( get_all_states((a+b, 0, c)) ):\n",
    "              ans.append(state)\n",
    "              return True\n",
    "      else:\n",
    "          if( get_all_states((x, b-(x-a), c)) ):\n",
    "              ans.append(state)\n",
    "              return True\n",
    "      if(b+c<=z):\n",
    "          if( get_all_states((a, 0, b+c)) ):\n",
    "              ans.append(state)\n",
    "              return True\n",
    "      else:\n",
    "          if( get_all_states((a, b-(z-c), z)) ):\n",
    "              ans.append(state)\n",
    "              return True\n",
    "  if(c>0):\n",
    "      if(a+c<=x):\n",
    "          if( get_all_states((a+c, b, 0)) ):\n",
    "              ans.append(state)\n",
    "              return True\n",
    "      else:\n",
    "          if( get_all_states((x, b, c-(x-a))) ):\n",
    "              ans.append(state)\n",
    "              return True\n",
    "      if(b+c<=y):\n",
    "          if( get_all_states((a, b+c, 0)) ):\n",
    "              ans.append(state)\n",
    "              return True\n",
    "      else:\n",
    "          if( get_all_states((a, y, c-(y-b))) ):\n",
    "              ans.append(state)\n",
    "              return True\n",
    "\n",
    "  return False\n",
    "\n",
    "initial_state = (8,0,0)\n",
    "get_all_states(initial_state)\n",
    "ans.reverse()\n",
    "print(ans)\n",
    "print(len(ans))"
   ]
  },
  {
   "cell_type": "code",
   "execution_count": null,
   "metadata": {},
   "outputs": [],
   "source": []
  }
 ],
 "metadata": {
  "kernelspec": {
   "display_name": "Python 3",
   "language": "python",
   "name": "python3"
  },
  "language_info": {
   "codemirror_mode": {
    "name": "ipython",
    "version": 3
   },
   "file_extension": ".py",
   "mimetype": "text/x-python",
   "name": "python",
   "nbconvert_exporter": "python",
   "pygments_lexer": "ipython3",
   "version": "3.7.3"
  }
 },
 "nbformat": 4,
 "nbformat_minor": 2
}
