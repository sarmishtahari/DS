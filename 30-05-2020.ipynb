{
 "cells": [
  {
   "cell_type": "code",
   "execution_count": 1,
   "metadata": {},
   "outputs": [
    {
     "name": "stdout",
     "output_type": "stream",
     "text": [
      "enter a number12\n",
      "Adam number\n"
     ]
    }
   ],
   "source": [
    "#Adam Number:\n",
    "\n",
    "n = int(input(\"enter a number\"))#12\n",
    "if int(str(n**2)[::-1]) == int(str(n)[::-1])**2:\n",
    "    print(\"Adam number\")\n",
    "else:\n",
    "    print(\"Not an Adam Number\")\n"
   ]
  },
  {
   "cell_type": "code",
   "execution_count": 1,
   "metadata": {},
   "outputs": [
    {
     "name": "stdout",
     "output_type": "stream",
     "text": [
      "enter a number12\n",
      "Adam number\n"
     ]
    }
   ],
   "source": [
    "#Conditional operator :[on True] if [condition] else [On False]\n",
    "\n",
    "n = int(input(\"enter a number\"))#12\n",
    "print(\"Adam number\") if int(str(n**2)[::-1]) == int(str(n)[::-1])**2 else print(\"Not an Adam Number\")\n",
    "\n"
   ]
  },
  {
   "cell_type": "code",
   "execution_count": 3,
   "metadata": {},
   "outputs": [
    {
     "name": "stdout",
     "output_type": "stream",
     "text": [
      "enter a number12\n",
      "The given number is Adam\n"
     ]
    }
   ],
   "source": [
    "def Adam(n):\n",
    "    if int(str(n**2)[::-1])==int(str(n)[::-1])**2:\n",
    "        return True\n",
    "    else:\n",
    "        return False\n",
    "value = int(input(\"enter a number\"))\n",
    "if Adam(value):\n",
    "    print(\"The given number is Adam\")\n",
    "else:\n",
    "    print(\"The given number is Not an Adam\")"
   ]
  },
  {
   "cell_type": "code",
   "execution_count": 6,
   "metadata": {},
   "outputs": [
    {
     "data": {
      "text/plain": [
       "120"
      ]
     },
     "execution_count": 6,
     "metadata": {},
     "output_type": "execute_result"
    }
   ],
   "source": [
    "#Recursive functions:\n",
    "#Factorail of a number\n",
    "def Factorial(n):\n",
    "    if (n==0):\n",
    "        return 1\n",
    "    else:\n",
    "        return n* Factorial(n-1)\n",
    "Factorial(5)"
   ]
  },
  {
   "cell_type": "code",
   "execution_count": 7,
   "metadata": {},
   "outputs": [
    {
     "name": "stdout",
     "output_type": "stream",
     "text": [
      "1\n",
      "10\n",
      "1 2 3 4 5 6 7 8 9 10 "
     ]
    }
   ],
   "source": [
    "#lower bound and upper bound\n",
    "def display(lb,ub):\n",
    "    if lb > ub:\n",
    "        return\n",
    "    else:\n",
    "        print(lb,end=\" \")\n",
    "        display(lb+1,ub)\n",
    "\n",
    "lb=int(input())#1\n",
    "ub=int(input())#10\n",
    "display(lb,ub)#1 2 3 4 5....10"
   ]
  },
  {
   "cell_type": "code",
   "execution_count": 13,
   "metadata": {},
   "outputs": [
    {
     "name": "stdout",
     "output_type": "stream",
     "text": [
      "4181\n",
      "0.003972530364990234\n"
     ]
    }
   ],
   "source": [
    "#Fibonacci series:0,1,1,2,3,5,8,13,21,34...\n",
    "import time\n",
    "def recur_fibo(n):\n",
    "    if (n==1):\n",
    "        return 0\n",
    "    elif(n==2):\n",
    "        return 1\n",
    "    else:\n",
    "        return recur_fibo(n-1)+recur_fibo(n-2)\n",
    "prev = time.time()\n",
    "print(recur_fibo(20))\n",
    "print(time.time()-prev)"
   ]
  },
  {
   "cell_type": "code",
   "execution_count": 15,
   "metadata": {},
   "outputs": [
    {
     "name": "stdout",
     "output_type": "stream",
     "text": [
      "4181\n",
      "0.001001119613647461\n",
      "[0, 1, 1, 2, 3, 5, 8, 13, 21, 34, 55, 89, 144, 233, 377, 610, 987, 1597, 2584, 4181]\n"
     ]
    }
   ],
   "source": [
    "import time\n",
    "fibs=[0,1]\n",
    "def Fibonacci(n):\n",
    "    if n<=len(fibs):\n",
    "        return fibs[n-1]\n",
    "    else:\n",
    "        fibs.append(fibs[len(fibs)-1]+fibs[len(fibs)-2])\n",
    "        return Fibonacci(n)\n",
    "prev = time.time()\n",
    "print(Fibonacci(20))F\n",
    "print(time.time()-prev)\n",
    "print(fibs)"
   ]
  },
  {
   "cell_type": "code",
   "execution_count": 17,
   "metadata": {},
   "outputs": [
    {
     "name": "stdout",
     "output_type": "stream",
     "text": [
      "4181\n",
      "0.0009963512420654297\n"
     ]
    }
   ],
   "source": [
    "import time\n",
    "fibs=[0,1]\n",
    "def Fibonacci(n):\n",
    "    if n<=len(fibs):\n",
    "        return fibs[n-1]\n",
    "    else:\n",
    "        fibs.append(fibs[len(fibs)-1]+fibs[len(fibs)-2])\n",
    "        return Fibonacci(n)\n",
    "prev = time.time()\n",
    "print(Fibonacci(20))\n",
    "print(time.time()-prev)"
   ]
  },
  {
   "cell_type": "markdown",
   "metadata": {},
   "source": [
    "### List:[ ] ,indexed,ordered,allows,duplicate,mutable\n",
    "    operators:+,*,[],"
   ]
  },
  {
   "cell_type": "code",
   "execution_count": 19,
   "metadata": {},
   "outputs": [
    {
     "name": "stdout",
     "output_type": "stream",
     "text": [
      "length of list: 6\n",
      "['p', 'y', 't', 'h', 'o', 'n']\n",
      "t\n",
      "6\n"
     ]
    }
   ],
   "source": [
    "#Built-in functions:len(),min(),max(),list()\n",
    "list1 =[12,34,45,6,\"str\",True]\n",
    "list2 =[34,45,6.6,45,[12,23,34,45,[23,34,45,6]]]\n",
    "string =\"python\"\n",
    "#len() returns no.of elements of your list \n",
    "print(\"length of list:\",len(list1))#6\n",
    "#print(min(list2))\n",
    "#print(max(list2))\n",
    "print(list(string))\n",
    "print(list1[4][1])\n",
    "print(list2[4][4][3])"
   ]
  },
  {
   "cell_type": "code",
   "execution_count": 7,
   "metadata": {},
   "outputs": [
    {
     "name": "stdout",
     "output_type": "stream",
     "text": [
      "length of list: 6\n",
      "6.6\n",
      "45\n",
      "['p', 'y', 't', 'h', 'o', 'n']\n",
      "str\n"
     ]
    }
   ],
   "source": [
    "list1 =[12,34,45,6,\"str\",True]\n",
    "list2 =[34,45,6.6,45]\n",
    "string = \"python\"\n",
    "#len() returns no.of elements of your list \n",
    "print(\"length of list:\",len(list1))#6\n",
    "print(min(list2))\n",
    "print(max(list2))\n",
    "print(list(string))\n",
    "print(list1[4])"
   ]
  },
  {
   "cell_type": "markdown",
   "metadata": {},
   "source": [
    "### Built-in methods\n",
    "### Add an element\n",
    "1. append()\n",
    "2. insert()\n",
    "3. extend()"
   ]
  },
  {
   "cell_type": "code",
   "execution_count": 20,
   "metadata": {},
   "outputs": [
    {
     "name": "stdout",
     "output_type": "stream",
     "text": [
      "[1, 2, 3, 4, 5, 6]\n"
     ]
    }
   ],
   "source": [
    "#append()\n",
    "list1 =[1,2,3,4,5]\n",
    "list1.append(6)\n",
    "print(list1)"
   ]
  },
  {
   "cell_type": "code",
   "execution_count": 21,
   "metadata": {},
   "outputs": [
    {
     "name": "stdout",
     "output_type": "stream",
     "text": [
      "[1, 2, 3, 4, 5, 6]\n",
      "[1, 2, 3, 4, 5, 6, 7]\n"
     ]
    }
   ],
   "source": [
    "list1 =[1,2,3,4,5]\n",
    "list1.append(6)\n",
    "print(list1)\n",
    "list1.append(7)\n",
    "print(list1)"
   ]
  },
  {
   "cell_type": "code",
   "execution_count": 22,
   "metadata": {},
   "outputs": [
    {
     "name": "stdout",
     "output_type": "stream",
     "text": [
      "[1, 2, 100, 3, 4, 5, 6, 7]\n"
     ]
    }
   ],
   "source": [
    "#insert() -->inserts an element at the given position\n",
    "list1.insert(2,100)\n",
    "print(list1)"
   ]
  },
  {
   "cell_type": "code",
   "execution_count": 23,
   "metadata": {},
   "outputs": [
    {
     "name": "stdout",
     "output_type": "stream",
     "text": [
      "[1, 2, 100, 3, 4, 5, 6, 7, 8, 9, 10]\n"
     ]
    }
   ],
   "source": [
    "#extend() -->insert multiple elements at a time\n",
    "list1.extend([8,9,10])\n",
    "print(list1)"
   ]
  },
  {
   "cell_type": "markdown",
   "metadata": {},
   "source": [
    "### Removing elements:\n",
    "1. pop()\n",
    "2. remove()\n",
    "3. clear()"
   ]
  },
  {
   "cell_type": "code",
   "execution_count": 25,
   "metadata": {},
   "outputs": [
    {
     "name": "stdout",
     "output_type": "stream",
     "text": [
      "[1, 2, 3, 4, 5, 6, 7, 8, 9, 10]\n"
     ]
    }
   ],
   "source": [
    "#Removing elements:\n",
    "#list1.pop()\n",
    "#print(list1)\n",
    "list1.pop(2)\n",
    "print(list1)"
   ]
  },
  {
   "cell_type": "code",
   "execution_count": 26,
   "metadata": {},
   "outputs": [
    {
     "name": "stdout",
     "output_type": "stream",
     "text": [
      "[1, 2, 3, 4, 5, 6, 7, 8, 10]\n"
     ]
    }
   ],
   "source": [
    "#remove\n",
    "list1.remove(9)\n",
    "print(list1)"
   ]
  },
  {
   "cell_type": "code",
   "execution_count": 27,
   "metadata": {},
   "outputs": [
    {
     "data": {
      "text/plain": [
       "[]"
      ]
     },
     "execution_count": 27,
     "metadata": {},
     "output_type": "execute_result"
    }
   ],
   "source": [
    "#clear\n",
    "list1.clear()\n",
    "list1"
   ]
  },
  {
   "cell_type": "code",
   "execution_count": 4,
   "metadata": {},
   "outputs": [
    {
     "name": "stdout",
     "output_type": "stream",
     "text": [
      "1\n",
      "2\n"
     ]
    }
   ],
   "source": [
    "#index\n",
    "#count\n",
    "list1 = [23,34,56,76,68,79,80,78,76]\n",
    "print(list1.index(34))\n",
    "print(list1.count(76))"
   ]
  },
  {
   "cell_type": "markdown",
   "metadata": {},
   "source": [
    "### Sorting and reversing\n",
    "1. sort()\n",
    "2. reverse()"
   ]
  },
  {
   "cell_type": "code",
   "execution_count": 30,
   "metadata": {
    "collapsed": true
   },
   "outputs": [
    {
     "name": "stdout",
     "output_type": "stream",
     "text": [
      "[80, 79, 78, 76, 76, 68, 56, 34, 23]\n",
      "[23, 34, 56, 68, 76, 76, 78, 79, 80]\n"
     ]
    }
   ],
   "source": [
    "#Descending order\n",
    "list1.sort(reverse=True)\n",
    "print(list1)\n",
    "#Ascending order\n",
    "list1.sort(reverse=False)\n",
    "print(list1)"
   ]
  },
  {
   "cell_type": "code",
   "execution_count": 32,
   "metadata": {},
   "outputs": [
    {
     "name": "stdout",
     "output_type": "stream",
     "text": [
      "[80, 79, 78, 76, 76, 68, 56, 34, 23]\n"
     ]
    }
   ],
   "source": [
    "#reverse\n",
    "list1.reverse()\n",
    "print(list1)"
   ]
  },
  {
   "cell_type": "code",
   "execution_count": 35,
   "metadata": {},
   "outputs": [
    {
     "name": "stdout",
     "output_type": "stream",
     "text": [
      "[1, 2, 3, 4, 5]\n",
      "[1, 2, 3, 4, 5]\n",
      "[1, 2, 3, 4, 5, 6, 7] [1, 2, 3, 4, 5, 6, 7] [1, 2, 3, 4, 5]\n"
     ]
    }
   ],
   "source": [
    "#copy\n",
    "list1=[1,2,3,4,5]\n",
    "list2=[]\n",
    "list3=[]\n",
    "list2=list1\n",
    "print(list2)\n",
    "list3=list1.copy()\n",
    "print(list3)\n",
    "list1.append(6)\n",
    "list1.append(7)\n",
    "print(list1,list2,list3)"
   ]
  },
  {
   "cell_type": "code",
   "execution_count": 1,
   "metadata": {},
   "outputs": [
    {
     "name": "stdout",
     "output_type": "stream",
     "text": [
      "1\n",
      "2\n"
     ]
    }
   ],
   "source": [
    "#Count\n",
    "list1 = [223,34,56,76,68,79,80,78,76]\n",
    "print(list1.index(34))#returns index of an element\n",
    "print(list1.count(76))#frequency of the element"
   ]
  },
  {
   "cell_type": "markdown",
   "metadata": {},
   "source": [
    "### File Handling:\n",
    "1. create\n",
    "2. add some text\n",
    "3. save\n",
    "4. read\n",
    "5. appending\n",
    "6. rename \n",
    "7. remove"
   ]
  },
  {
   "cell_type": "markdown",
   "metadata": {},
   "source": [
    "### Modes:\n",
    "1. write(w)\n",
    "2. read(r)\n",
    "3. append(a)\n",
    "4. new file creation(x)"
   ]
  },
  {
   "cell_type": "markdown",
   "metadata": {},
   "source": [
    "1. open()\n",
    "2. close()"
   ]
  },
  {
   "cell_type": "code",
   "execution_count": 9,
   "metadata": {},
   "outputs": [],
   "source": [
    "f = open(\"sample.txt\",\"w\")\n",
    "f.write(\"Hello Everyone!!!\")\n",
    "f.close()"
   ]
  },
  {
   "cell_type": "code",
   "execution_count": 10,
   "metadata": {},
   "outputs": [
    {
     "name": "stdout",
     "output_type": "stream",
     "text": [
      "Hello Everyone!!!\n"
     ]
    }
   ],
   "source": [
    "f = open(\"sample.txt\",\"r\")\n",
    "data = f.read()\n",
    "print(data)\n",
    "f.close()"
   ]
  },
  {
   "cell_type": "code",
   "execution_count": 13,
   "metadata": {},
   "outputs": [],
   "source": [
    "f = open(\"sample.txt\",\"a\")\n",
    "s = '''\\n How are doing all??\n",
    "stay home!!!'''\n",
    "f.write(s)\n",
    "f.close()"
   ]
  },
  {
   "cell_type": "code",
   "execution_count": 14,
   "metadata": {},
   "outputs": [
    {
     "name": "stdout",
     "output_type": "stream",
     "text": [
      "Hello Everyone!!!How are doing all??\n",
      "stay home!!!\n",
      " How are doing all??\n",
      "stay home!!!\n"
     ]
    }
   ],
   "source": [
    "f = open(\"sample.txt\",\"r\")\n",
    "data = f.read()\n",
    "print(data)\n",
    "f.close()"
   ]
  }
 ],
 "metadata": {
  "kernelspec": {
   "display_name": "Python 3",
   "language": "python",
   "name": "python3"
  },
  "language_info": {
   "codemirror_mode": {
    "name": "ipython",
    "version": 3
   },
   "file_extension": ".py",
   "mimetype": "text/x-python",
   "name": "python",
   "nbconvert_exporter": "python",
   "pygments_lexer": "ipython3",
   "version": "3.7.3"
  }
 },
 "nbformat": 4,
 "nbformat_minor": 2
}
