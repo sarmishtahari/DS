{
 "cells": [
  {
   "cell_type": "markdown",
   "metadata": {},
   "source": [
    "# CSE-221710309053-Hari Sarmishta"
   ]
  },
  {
   "cell_type": "markdown",
   "metadata": {},
   "source": [
    "## Question 1:\n",
    "### [Reverse] \n",
    "    Copy the contents of a text file into another, printing the reversed version of each input line"
   ]
  },
  {
   "cell_type": "code",
   "execution_count": 6,
   "metadata": {},
   "outputs": [],
   "source": [
    "f = open('sample.txt', 'r') \n",
    "u = open('ReverseFile.txt', 'a') \n",
    "\n",
    "for ln in f:\n",
    "    line = ln.split() \n",
    "    Reversed = \" \".join(line[::-1]) \n",
    "    Reversed = Reversed +\"\\n\"\n",
    "    u.writelines(Reversed)\n",
    "    \n",
    "f.close()\n",
    "u.close() \n"
   ]
  },
  {
   "cell_type": "markdown",
   "metadata": {},
   "source": [
    "## Question 2:\n",
    "### [Number Lines ]\n",
    "    Print the contents of a file line by line putting a line number for each line."
   ]
  },
  {
   "cell_type": "code",
   "execution_count": 2,
   "metadata": {},
   "outputs": [
    {
     "name": "stdout",
     "output_type": "stream",
     "text": [
      "1 This is my sample file.\n",
      "\n",
      "2 Hello Everyone.\n",
      "\n",
      "3 My name is Hari Sarmishta.\n",
      "\n",
      "4 I'm pursuing my btech in Gitam University.\n"
     ]
    }
   ],
   "source": [
    "lno = 1\n",
    "u = open('sample.txt', 'r') \n",
    "\n",
    "for ln in u:\n",
    "    print(lno, end = \" \")\n",
    "    print(ln)\n",
    "    lno +=1\n",
    "    #print(\"Line{}: {}\".format(lno, ln.strip())) \n",
    "\n",
    "u.close()"
   ]
  },
  {
   "cell_type": "markdown",
   "metadata": {},
   "source": [
    "## Question 3:\n",
    "### [deDuplicate] Avoiding Duplicates\n",
    "    In many situations, lists should not contain duplicate elements. For example, a pack of cards should not contain the same card twice. Define a function\n",
    "    duplicates (list): bool\n",
    "    which returns True if its argument contains duplicate elements.\n",
    "        duplicates [1,2,3,4,5]\n",
    "            False\n",
    "        duplicates [1,2,3,2]\n",
    "            True\n",
    "#### Hint: the standard operation in, which tests whether an element occurs in a list, is helpful here.\n",
    "    One way to ensure a list contains no duplicates is to start with a list that might contain duplicate elements, and remove them. Define a function\n",
    "    removeDuplicates (list): list\n",
    "    which returns a list containing the same elements as its argument, but without duplicates."
   ]
  },
  {
   "cell_type": "code",
   "execution_count": 3,
   "metadata": {},
   "outputs": [
    {
     "name": "stdout",
     "output_type": "stream",
     "text": [
      "The original list is : [1, 3, 5, 6, 3, 6]\n",
      "The list after removing duplicates : [1, 3, 5, 6]\n"
     ]
    }
   ],
   "source": [
    "def duplicates (test_list):\n",
    "    for elem in test_list:\n",
    "        if test_list.count(elem) > 1:\n",
    "            return True\n",
    "    return False\n",
    "\n",
    "def removeDuplicates(duplicateList):\n",
    "    final_list = [] \n",
    "    for num in duplicateList: \n",
    "        if num not in final_list: \n",
    "            final_list.append(num) \n",
    "    return final_list \n",
    "listSample = [1, 3, 5, 6, 3, 6] \n",
    "print (\"The original list is : \" +  str(listSample)) \n",
    "\n",
    "result = duplicates(listSample)\n",
    "if(result == True):\n",
    "    finalList = removeDuplicates(listSample)\n",
    "else:\n",
    "    finalList = listSample\n",
    "print (\"The list after removing duplicates : \" + str(finalList)) "
   ]
  },
  {
   "cell_type": "markdown",
   "metadata": {},
   "source": [
    "## Question 4:\n",
    "### [fractions.py] \n",
    "    Develop a package for fractions. Develop a module that performs operations on fractions. It should have methods to   create fractions, perform operations on two fractions, simplify a fraction, and print a fraction. \n",
    "    You should use that package and illustrate those operations."
   ]
  },
  {
   "cell_type": "code",
   "execution_count": 4,
   "metadata": {},
   "outputs": [
    {
     "name": "stdout",
     "output_type": "stream",
     "text": [
      "5/4\n",
      "5\n",
      "4\n",
      "Add: 19/8\n",
      "Subtract: 1/8\n",
      "Multiply: 45/32\n",
      "Divide: 10/9\n",
      "Power: 25/16\n",
      "Square Root: 0.75\n",
      "Square Root: 3/4\n",
      "Floor Value: 1\n",
      "Ceiling Value: 2\n"
     ]
    }
   ],
   "source": [
    "import math\n",
    "from fractions import Fraction as frac\n",
    "\n",
    "print(frac('1.25'))\n",
    "print(frac('1.25').numerator)\n",
    "print(frac('1.25').denominator)\n",
    "print('Add: ' + str(frac('5/4') + frac('9/8')))\n",
    "print('Subtract: ' + str(frac('5/4') - frac('9/8')))\n",
    "print('Multiply: ' + str(frac('5/4') * frac('9/8')))\n",
    "\n",
    "print('Divide: ' + str(frac('5/4') / frac('9/8')))\n",
    "print('Power: ' + str(frac('5/4') ** 2))\n",
    "print('Square Root: ' + str(math.sqrt(frac(36, 64))))\n",
    "print('Square Root: ' + str(frac(math.sqrt(frac(36, 64)))))\n",
    "print('Floor Value: ' + str(math.floor(frac('5/4'))))\n",
    "print('Ceiling Value: ' + str(math.ceil(frac('5/4'))))"
   ]
  },
  {
   "cell_type": "markdown",
   "metadata": {},
   "source": [
    "## Question 5:\n",
    "### [Permutations] \n",
    "    A permutation of a list is another list with the same elements, but in a possibly different order. For example, [1,2,1] is a permutation of [2,1,1], but not of [1,2,2]. Write a function\n",
    "            isPermutation (list1, list2): bool\n",
    "    that returns True if its arguments are permutations of each other."
   ]
  },
  {
   "cell_type": "code",
   "execution_count": 5,
   "metadata": {},
   "outputs": [
    {
     "name": "stdout",
     "output_type": "stream",
     "text": [
      "True\n"
     ]
    }
   ],
   "source": [
    "List1=[1,2,1]\n",
    "List2=[2,1,1]\n",
    "def Permutation(list1,list2):\n",
    "    if len(list1)!= len(list2):\n",
    "        return False;\n",
    "    for i in range(0, len(list1)):\n",
    "        if list1.count(list1[i]) != list2.count(list1[i]):\n",
    "            return False\n",
    "def islist_permutation(list1,list2):\n",
    "    if (Permutation(list1,list2) == False):\n",
    "        return False \n",
    "    else:\n",
    "        return True\n",
    "print(islist_permutation(List1,List2))"
   ]
  }
 ],
 "metadata": {
  "kernelspec": {
   "display_name": "Python 3",
   "language": "python",
   "name": "python3"
  },
  "language_info": {
   "codemirror_mode": {
    "name": "ipython",
    "version": 3
   },
   "file_extension": ".py",
   "mimetype": "text/x-python",
   "name": "python",
   "nbconvert_exporter": "python",
   "pygments_lexer": "ipython3",
   "version": "3.7.3"
  }
 },
 "nbformat": 4,
 "nbformat_minor": 2
}
